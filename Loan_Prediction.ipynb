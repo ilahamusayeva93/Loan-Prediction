{
  "cells": [
    {
      "cell_type": "code",
      "execution_count": null,
      "id": "fed8f84a-90de-409a-bcfa-a044c2d6955f",
      "metadata": {
        "id": "fed8f84a-90de-409a-bcfa-a044c2d6955f",
        "outputId": "a257df75-0a95-4edd-d292-b593faa2a71d"
      },
      "outputs": [
        {
          "name": "stdout",
          "output_type": "stream",
          "text": [
            "Requirement already satisfied: xgboost in c:\\users\\acer\\anaconda3\\lib\\site-packages (1.7.6)\n",
            "Requirement already satisfied: numpy in c:\\users\\acer\\anaconda3\\lib\\site-packages (from xgboost) (1.24.3)\n",
            "Requirement already satisfied: scipy in c:\\users\\acer\\anaconda3\\lib\\site-packages (from xgboost) (1.10.1)\n"
          ]
        }
      ],
      "source": [
        "import pandas as pd\n",
        "import numpy as np\n",
        "import seaborn as sns\n",
        "import matplotlib.pyplot as plt\n",
        "\n",
        "from sklearn.model_selection import train_test_split\n",
        "from sklearn.preprocessing import RobustScaler\n",
        "from sklearn.metrics import classification_report\n",
        "\n",
        "from sklearn.ensemble import BaggingClassifier\n",
        "from sklearn.svm import SVC\n",
        "from sklearn.ensemble import RandomForestClassifier\n",
        "\n",
        "from imblearn.under_sampling import NearMiss\n",
        "from imblearn.over_sampling import RandomOverSampler\n",
        "\n",
        "!pip install xgboost\n",
        "\n",
        "from sklearn.ensemble import GradientBoostingClassifier\n",
        "from xgboost import XGBClassifier\n",
        "\n",
        "import warnings\n",
        "warnings.filterwarnings('ignore')\n",
        "pd.options.display.max_rows=100\n",
        "pd.options.display.max_columns=100"
      ]
    },
    {
      "cell_type": "code",
      "execution_count": null,
      "id": "1eb171ea-7f54-4f88-b9f0-c0fe933b9e0c",
      "metadata": {
        "tags": [],
        "id": "1eb171ea-7f54-4f88-b9f0-c0fe933b9e0c",
        "outputId": "27b13d9b-6827-44c9-94d1-21f782cceca6"
      },
      "outputs": [
        {
          "name": "stdout",
          "output_type": "stream",
          "text": [
            "C:\\Users\\ACER\\Desktop\\week6_hw\n"
          ]
        }
      ],
      "source": [
        "import os\n",
        "print(os.getcwd())"
      ]
    },
    {
      "cell_type": "code",
      "execution_count": null,
      "id": "4e9653f1-21dd-4f9e-b919-b65023d95852",
      "metadata": {
        "tags": [],
        "id": "4e9653f1-21dd-4f9e-b919-b65023d95852"
      },
      "outputs": [],
      "source": [
        "df=pd.read_csv('loan_prediction.csv')"
      ]
    },
    {
      "cell_type": "code",
      "execution_count": null,
      "id": "1a6eb579-d233-4f29-bf1e-200c07ebbb37",
      "metadata": {
        "tags": [],
        "id": "1a6eb579-d233-4f29-bf1e-200c07ebbb37",
        "outputId": "ff8c5b49-56b6-449d-f235-bbb5a7bd9c84"
      },
      "outputs": [
        {
          "name": "stdout",
          "output_type": "stream",
          "text": [
            "<class 'pandas.core.frame.DataFrame'>\n",
            "RangeIndex: 614 entries, 0 to 613\n",
            "Data columns (total 13 columns):\n",
            " #   Column             Non-Null Count  Dtype  \n",
            "---  ------             --------------  -----  \n",
            " 0   Loan_ID            614 non-null    object \n",
            " 1   Gender             601 non-null    object \n",
            " 2   Married            611 non-null    object \n",
            " 3   Dependents         599 non-null    object \n",
            " 4   Education          614 non-null    object \n",
            " 5   Self_Employed      582 non-null    object \n",
            " 6   ApplicantIncome    614 non-null    int64  \n",
            " 7   CoapplicantIncome  614 non-null    float64\n",
            " 8   LoanAmount         592 non-null    float64\n",
            " 9   Loan_Amount_Term   600 non-null    float64\n",
            " 10  Credit_History     564 non-null    float64\n",
            " 11  Property_Area      614 non-null    object \n",
            " 12  Loan_Status        614 non-null    object \n",
            "dtypes: float64(4), int64(1), object(8)\n",
            "memory usage: 62.5+ KB\n"
          ]
        }
      ],
      "source": [
        "df.info()"
      ]
    },
    {
      "cell_type": "code",
      "execution_count": null,
      "id": "36ff9a4b-863e-47d9-b591-d9a070c9de96",
      "metadata": {
        "tags": [],
        "id": "36ff9a4b-863e-47d9-b591-d9a070c9de96",
        "outputId": "7e274847-7ca4-42ef-9328-1d75f2a09982"
      },
      "outputs": [
        {
          "data": {
            "text/plain": [
              "Loan_ID               0\n",
              "Gender               13\n",
              "Married               3\n",
              "Dependents           15\n",
              "Education             0\n",
              "Self_Employed        32\n",
              "ApplicantIncome       0\n",
              "CoapplicantIncome     0\n",
              "LoanAmount           22\n",
              "Loan_Amount_Term     14\n",
              "Credit_History       50\n",
              "Property_Area         0\n",
              "Loan_Status           0\n",
              "dtype: int64"
            ]
          },
          "execution_count": 8,
          "metadata": {},
          "output_type": "execute_result"
        }
      ],
      "source": [
        "df.isnull().sum()"
      ]
    },
    {
      "cell_type": "code",
      "execution_count": null,
      "id": "cd9edab1-6e93-4f07-a700-2d59e2609da6",
      "metadata": {
        "tags": [],
        "id": "cd9edab1-6e93-4f07-a700-2d59e2609da6",
        "outputId": "425f8224-ee1f-457a-ab85-2931621f4e70"
      },
      "outputs": [
        {
          "data": {
            "text/plain": [
              "Y    422\n",
              "N    192\n",
              "Name: Loan_Status, dtype: int64"
            ]
          },
          "execution_count": 9,
          "metadata": {},
          "output_type": "execute_result"
        }
      ],
      "source": [
        "df['Loan_Status'].value_counts()"
      ]
    },
    {
      "cell_type": "code",
      "execution_count": null,
      "id": "2a86b870-d017-4775-86f0-7641c24a5b13",
      "metadata": {
        "tags": [],
        "id": "2a86b870-d017-4775-86f0-7641c24a5b13",
        "outputId": "913c917f-c59c-4921-a240-10e7735fcc5a"
      },
      "outputs": [
        {
          "data": {
            "text/html": [
              "<div>\n",
              "<style scoped>\n",
              "    .dataframe tbody tr th:only-of-type {\n",
              "        vertical-align: middle;\n",
              "    }\n",
              "\n",
              "    .dataframe tbody tr th {\n",
              "        vertical-align: top;\n",
              "    }\n",
              "\n",
              "    .dataframe thead th {\n",
              "        text-align: right;\n",
              "    }\n",
              "</style>\n",
              "<table border=\"1\" class=\"dataframe\">\n",
              "  <thead>\n",
              "    <tr style=\"text-align: right;\">\n",
              "      <th></th>\n",
              "      <th>loan_id</th>\n",
              "      <th>gender</th>\n",
              "      <th>married</th>\n",
              "      <th>dependents</th>\n",
              "      <th>education</th>\n",
              "      <th>self_employed</th>\n",
              "      <th>applicantincome</th>\n",
              "      <th>coapplicantincome</th>\n",
              "      <th>loanamount</th>\n",
              "      <th>loan_amount_term</th>\n",
              "      <th>credit_history</th>\n",
              "      <th>property_area</th>\n",
              "      <th>loan_status</th>\n",
              "    </tr>\n",
              "  </thead>\n",
              "  <tbody>\n",
              "    <tr>\n",
              "      <th>0</th>\n",
              "      <td>LP001002</td>\n",
              "      <td>Male</td>\n",
              "      <td>No</td>\n",
              "      <td>0</td>\n",
              "      <td>Graduate</td>\n",
              "      <td>No</td>\n",
              "      <td>5849</td>\n",
              "      <td>0.0</td>\n",
              "      <td>NaN</td>\n",
              "      <td>360.0</td>\n",
              "      <td>1.0</td>\n",
              "      <td>Urban</td>\n",
              "      <td>Y</td>\n",
              "    </tr>\n",
              "    <tr>\n",
              "      <th>1</th>\n",
              "      <td>LP001003</td>\n",
              "      <td>Male</td>\n",
              "      <td>Yes</td>\n",
              "      <td>1</td>\n",
              "      <td>Graduate</td>\n",
              "      <td>No</td>\n",
              "      <td>4583</td>\n",
              "      <td>1508.0</td>\n",
              "      <td>128.0</td>\n",
              "      <td>360.0</td>\n",
              "      <td>1.0</td>\n",
              "      <td>Rural</td>\n",
              "      <td>N</td>\n",
              "    </tr>\n",
              "  </tbody>\n",
              "</table>\n",
              "</div>"
            ],
            "text/plain": [
              "    loan_id gender married dependents education self_employed  \\\n",
              "0  LP001002   Male      No          0  Graduate            No   \n",
              "1  LP001003   Male     Yes          1  Graduate            No   \n",
              "\n",
              "   applicantincome  coapplicantincome  loanamount  loan_amount_term  \\\n",
              "0             5849                0.0         NaN             360.0   \n",
              "1             4583             1508.0       128.0             360.0   \n",
              "\n",
              "   credit_history property_area loan_status  \n",
              "0             1.0         Urban           Y  \n",
              "1             1.0         Rural           N  "
            ]
          },
          "execution_count": 10,
          "metadata": {},
          "output_type": "execute_result"
        }
      ],
      "source": [
        "df.columns=[i.lower().strip().replace(' ','_') for i in df.columns]\n",
        "df.head(2)"
      ]
    },
    {
      "cell_type": "code",
      "execution_count": null,
      "id": "7fe78682-743a-4174-bbb1-3d1580ec1dd0",
      "metadata": {
        "tags": [],
        "id": "7fe78682-743a-4174-bbb1-3d1580ec1dd0",
        "outputId": "76984243-0efc-41e9-89cc-5b34bdfe04b1"
      },
      "outputs": [
        {
          "data": {
            "text/plain": [
              "Text(0.5, 1.0, 'Loan status')"
            ]
          },
          "execution_count": 11,
          "metadata": {},
          "output_type": "execute_result"
        },
        {
          "data": {
            "image/png": "[encoded data removed]",
            "text/plain": [
              "<Figure size 640x480 with 1 Axes>"
            ]
          },
          "metadata": {},
          "output_type": "display_data"
        }
      ],
      "source": [
        "sns.countplot(x=df['loan_status'])\n",
        "plt.title('Loan status')"
      ]
    },
    {
      "cell_type": "code",
      "execution_count": null,
      "id": "fc7b427c-3cee-4416-b20f-67f0bd2484de",
      "metadata": {
        "tags": [],
        "id": "fc7b427c-3cee-4416-b20f-67f0bd2484de",
        "outputId": "dc0395ec-fd64-406b-8f56-24526fdc9c08"
      },
      "outputs": [
        {
          "data": {
            "text/plain": [
              "1.0    475\n",
              "0.0     89\n",
              "Name: credit_history, dtype: int64"
            ]
          },
          "execution_count": 12,
          "metadata": {},
          "output_type": "execute_result"
        }
      ],
      "source": [
        "df['credit_history'].value_counts()"
      ]
    },
    {
      "cell_type": "code",
      "execution_count": null,
      "id": "203fa260-df23-400a-832a-9f9ad977a209",
      "metadata": {
        "tags": [],
        "id": "203fa260-df23-400a-832a-9f9ad977a209",
        "outputId": "3d963708-fc23-4d81-d0ca-1ace3a8b14ad"
      },
      "outputs": [
        {
          "data": {
            "text/plain": [
              "Text(0.5, 1.0, 'Credit History')"
            ]
          },
          "execution_count": 13,
          "metadata": {},
          "output_type": "execute_result"
        },
        {
          "data": {
            "image/png": "[encoded data removed]",
            "text/plain": [
              "<Figure size 640x480 with 1 Axes>"
            ]
          },
          "metadata": {},
          "output_type": "display_data"
        }
      ],
      "source": [
        "sns.countplot(x=df['credit_history'])\n",
        "plt.title('Credit History')"
      ]
    },
    {
      "cell_type": "code",
      "execution_count": null,
      "id": "5b343be3-d54a-44ca-a2b0-18f7c7b45b6f",
      "metadata": {
        "tags": [],
        "id": "5b343be3-d54a-44ca-a2b0-18f7c7b45b6f",
        "outputId": "aab1bbc2-4cad-4653-8f6d-a7cdf3afade0"
      },
      "outputs": [
        {
          "data": {
            "text/plain": [
              "Index(['loan_id', 'gender', 'married', 'dependents', 'education',\n",
              "       'self_employed', 'applicantincome', 'coapplicantincome', 'loanamount',\n",
              "       'loan_amount_term', 'credit_history', 'property_area', 'loan_status'],\n",
              "      dtype='object')"
            ]
          },
          "execution_count": 14,
          "metadata": {},
          "output_type": "execute_result"
        }
      ],
      "source": [
        "df.columns"
      ]
    },
    {
      "cell_type": "code",
      "execution_count": null,
      "id": "3b0d7042-c207-4689-8c65-6069d4e29235",
      "metadata": {
        "tags": [],
        "id": "3b0d7042-c207-4689-8c65-6069d4e29235"
      },
      "outputs": [],
      "source": [
        "df.drop(['loan_id'],axis=1,inplace=True)"
      ]
    },
    {
      "cell_type": "code",
      "execution_count": null,
      "id": "8d1fe6f0-62be-424e-8b97-67c27bb3e63e",
      "metadata": {
        "tags": [],
        "id": "8d1fe6f0-62be-424e-8b97-67c27bb3e63e",
        "outputId": "7c56b012-1ee0-40d6-85e2-7c54a0f906ea"
      },
      "outputs": [
        {
          "data": {
            "text/html": [
              "<div>\n",
              "<style scoped>\n",
              "    .dataframe tbody tr th:only-of-type {\n",
              "        vertical-align: middle;\n",
              "    }\n",
              "\n",
              "    .dataframe tbody tr th {\n",
              "        vertical-align: top;\n",
              "    }\n",
              "\n",
              "    .dataframe thead th {\n",
              "        text-align: right;\n",
              "    }\n",
              "</style>\n",
              "<table border=\"1\" class=\"dataframe\">\n",
              "  <thead>\n",
              "    <tr style=\"text-align: right;\">\n",
              "      <th></th>\n",
              "      <th>gender</th>\n",
              "      <th>married</th>\n",
              "      <th>dependents</th>\n",
              "      <th>education</th>\n",
              "      <th>self_employed</th>\n",
              "      <th>applicantincome</th>\n",
              "      <th>coapplicantincome</th>\n",
              "      <th>loanamount</th>\n",
              "      <th>loan_amount_term</th>\n",
              "      <th>credit_history</th>\n",
              "      <th>property_area</th>\n",
              "      <th>loan_status</th>\n",
              "    </tr>\n",
              "  </thead>\n",
              "  <tbody>\n",
              "    <tr>\n",
              "      <th>0</th>\n",
              "      <td>Male</td>\n",
              "      <td>No</td>\n",
              "      <td>0</td>\n",
              "      <td>Graduate</td>\n",
              "      <td>No</td>\n",
              "      <td>5849</td>\n",
              "      <td>0.0</td>\n",
              "      <td>NaN</td>\n",
              "      <td>360.0</td>\n",
              "      <td>1.0</td>\n",
              "      <td>Urban</td>\n",
              "      <td>Y</td>\n",
              "    </tr>\n",
              "    <tr>\n",
              "      <th>1</th>\n",
              "      <td>Male</td>\n",
              "      <td>Yes</td>\n",
              "      <td>1</td>\n",
              "      <td>Graduate</td>\n",
              "      <td>No</td>\n",
              "      <td>4583</td>\n",
              "      <td>1508.0</td>\n",
              "      <td>128.0</td>\n",
              "      <td>360.0</td>\n",
              "      <td>1.0</td>\n",
              "      <td>Rural</td>\n",
              "      <td>N</td>\n",
              "    </tr>\n",
              "  </tbody>\n",
              "</table>\n",
              "</div>"
            ],
            "text/plain": [
              "  gender married dependents education self_employed  applicantincome  \\\n",
              "0   Male      No          0  Graduate            No             5849   \n",
              "1   Male     Yes          1  Graduate            No             4583   \n",
              "\n",
              "   coapplicantincome  loanamount  loan_amount_term  credit_history  \\\n",
              "0                0.0         NaN             360.0             1.0   \n",
              "1             1508.0       128.0             360.0             1.0   \n",
              "\n",
              "  property_area loan_status  \n",
              "0         Urban           Y  \n",
              "1         Rural           N  "
            ]
          },
          "execution_count": 16,
          "metadata": {},
          "output_type": "execute_result"
        }
      ],
      "source": [
        "df.head(2)"
      ]
    },
    {
      "cell_type": "code",
      "execution_count": null,
      "id": "333582e4-d832-4027-b54d-54b3158c1ea2",
      "metadata": {
        "tags": [],
        "id": "333582e4-d832-4027-b54d-54b3158c1ea2",
        "outputId": "6531226e-a8de-4b6e-b682-4adfffad17cf"
      },
      "outputs": [
        {
          "data": {
            "text/plain": [
              "(614, 12)"
            ]
          },
          "execution_count": 17,
          "metadata": {},
          "output_type": "execute_result"
        }
      ],
      "source": [
        "df.shape"
      ]
    },
    {
      "cell_type": "code",
      "execution_count": null,
      "id": "6fd324ed-12e9-4a61-854f-474691079bee",
      "metadata": {
        "tags": [],
        "id": "6fd324ed-12e9-4a61-854f-474691079bee"
      },
      "outputs": [],
      "source": [
        "df.drop_duplicates(inplace=True)"
      ]
    },
    {
      "cell_type": "code",
      "execution_count": null,
      "id": "b6cb9807-aa88-4163-8f25-93d7a5a10f5f",
      "metadata": {
        "tags": [],
        "id": "b6cb9807-aa88-4163-8f25-93d7a5a10f5f",
        "outputId": "4362f1e9-2edb-480b-85ad-41df5dd07be0"
      },
      "outputs": [
        {
          "data": {
            "text/html": [
              "<div>\n",
              "<style scoped>\n",
              "    .dataframe tbody tr th:only-of-type {\n",
              "        vertical-align: middle;\n",
              "    }\n",
              "\n",
              "    .dataframe tbody tr th {\n",
              "        vertical-align: top;\n",
              "    }\n",
              "\n",
              "    .dataframe thead th {\n",
              "        text-align: right;\n",
              "    }\n",
              "</style>\n",
              "<table border=\"1\" class=\"dataframe\">\n",
              "  <thead>\n",
              "    <tr style=\"text-align: right;\">\n",
              "      <th></th>\n",
              "      <th>gender</th>\n",
              "      <th>married</th>\n",
              "      <th>dependents</th>\n",
              "      <th>education</th>\n",
              "      <th>self_employed</th>\n",
              "      <th>applicantincome</th>\n",
              "      <th>coapplicantincome</th>\n",
              "      <th>loanamount</th>\n",
              "      <th>loan_amount_term</th>\n",
              "      <th>credit_history</th>\n",
              "      <th>property_area</th>\n",
              "      <th>loan_status</th>\n",
              "    </tr>\n",
              "  </thead>\n",
              "  <tbody>\n",
              "    <tr>\n",
              "      <th>0</th>\n",
              "      <td>Male</td>\n",
              "      <td>No</td>\n",
              "      <td>0</td>\n",
              "      <td>Graduate</td>\n",
              "      <td>No</td>\n",
              "      <td>5849</td>\n",
              "      <td>0.0</td>\n",
              "      <td>NaN</td>\n",
              "      <td>360.0</td>\n",
              "      <td>1.0</td>\n",
              "      <td>Urban</td>\n",
              "      <td>Y</td>\n",
              "    </tr>\n",
              "    <tr>\n",
              "      <th>1</th>\n",
              "      <td>Male</td>\n",
              "      <td>Yes</td>\n",
              "      <td>1</td>\n",
              "      <td>Graduate</td>\n",
              "      <td>No</td>\n",
              "      <td>4583</td>\n",
              "      <td>1508.0</td>\n",
              "      <td>128.0</td>\n",
              "      <td>360.0</td>\n",
              "      <td>1.0</td>\n",
              "      <td>Rural</td>\n",
              "      <td>N</td>\n",
              "    </tr>\n",
              "    <tr>\n",
              "      <th>2</th>\n",
              "      <td>Male</td>\n",
              "      <td>Yes</td>\n",
              "      <td>0</td>\n",
              "      <td>Graduate</td>\n",
              "      <td>Yes</td>\n",
              "      <td>3000</td>\n",
              "      <td>0.0</td>\n",
              "      <td>66.0</td>\n",
              "      <td>360.0</td>\n",
              "      <td>1.0</td>\n",
              "      <td>Urban</td>\n",
              "      <td>Y</td>\n",
              "    </tr>\n",
              "    <tr>\n",
              "      <th>3</th>\n",
              "      <td>Male</td>\n",
              "      <td>Yes</td>\n",
              "      <td>0</td>\n",
              "      <td>Not Graduate</td>\n",
              "      <td>No</td>\n",
              "      <td>2583</td>\n",
              "      <td>2358.0</td>\n",
              "      <td>120.0</td>\n",
              "      <td>360.0</td>\n",
              "      <td>1.0</td>\n",
              "      <td>Urban</td>\n",
              "      <td>Y</td>\n",
              "    </tr>\n",
              "    <tr>\n",
              "      <th>4</th>\n",
              "      <td>Male</td>\n",
              "      <td>No</td>\n",
              "      <td>0</td>\n",
              "      <td>Graduate</td>\n",
              "      <td>No</td>\n",
              "      <td>6000</td>\n",
              "      <td>0.0</td>\n",
              "      <td>141.0</td>\n",
              "      <td>360.0</td>\n",
              "      <td>1.0</td>\n",
              "      <td>Urban</td>\n",
              "      <td>Y</td>\n",
              "    </tr>\n",
              "    <tr>\n",
              "      <th>...</th>\n",
              "      <td>...</td>\n",
              "      <td>...</td>\n",
              "      <td>...</td>\n",
              "      <td>...</td>\n",
              "      <td>...</td>\n",
              "      <td>...</td>\n",
              "      <td>...</td>\n",
              "      <td>...</td>\n",
              "      <td>...</td>\n",
              "      <td>...</td>\n",
              "      <td>...</td>\n",
              "      <td>...</td>\n",
              "    </tr>\n",
              "    <tr>\n",
              "      <th>609</th>\n",
              "      <td>Female</td>\n",
              "      <td>No</td>\n",
              "      <td>0</td>\n",
              "      <td>Graduate</td>\n",
              "      <td>No</td>\n",
              "      <td>2900</td>\n",
              "      <td>0.0</td>\n",
              "      <td>71.0</td>\n",
              "      <td>360.0</td>\n",
              "      <td>1.0</td>\n",
              "      <td>Rural</td>\n",
              "      <td>Y</td>\n",
              "    </tr>\n",
              "    <tr>\n",
              "      <th>610</th>\n",
              "      <td>Male</td>\n",
              "      <td>Yes</td>\n",
              "      <td>3+</td>\n",
              "      <td>Graduate</td>\n",
              "      <td>No</td>\n",
              "      <td>4106</td>\n",
              "      <td>0.0</td>\n",
              "      <td>40.0</td>\n",
              "      <td>180.0</td>\n",
              "      <td>1.0</td>\n",
              "      <td>Rural</td>\n",
              "      <td>Y</td>\n",
              "    </tr>\n",
              "    <tr>\n",
              "      <th>611</th>\n",
              "      <td>Male</td>\n",
              "      <td>Yes</td>\n",
              "      <td>1</td>\n",
              "      <td>Graduate</td>\n",
              "      <td>No</td>\n",
              "      <td>8072</td>\n",
              "      <td>240.0</td>\n",
              "      <td>253.0</td>\n",
              "      <td>360.0</td>\n",
              "      <td>1.0</td>\n",
              "      <td>Urban</td>\n",
              "      <td>Y</td>\n",
              "    </tr>\n",
              "    <tr>\n",
              "      <th>612</th>\n",
              "      <td>Male</td>\n",
              "      <td>Yes</td>\n",
              "      <td>2</td>\n",
              "      <td>Graduate</td>\n",
              "      <td>No</td>\n",
              "      <td>7583</td>\n",
              "      <td>0.0</td>\n",
              "      <td>187.0</td>\n",
              "      <td>360.0</td>\n",
              "      <td>1.0</td>\n",
              "      <td>Urban</td>\n",
              "      <td>Y</td>\n",
              "    </tr>\n",
              "    <tr>\n",
              "      <th>613</th>\n",
              "      <td>Female</td>\n",
              "      <td>No</td>\n",
              "      <td>0</td>\n",
              "      <td>Graduate</td>\n",
              "      <td>Yes</td>\n",
              "      <td>4583</td>\n",
              "      <td>0.0</td>\n",
              "      <td>133.0</td>\n",
              "      <td>360.0</td>\n",
              "      <td>0.0</td>\n",
              "      <td>Semiurban</td>\n",
              "      <td>N</td>\n",
              "    </tr>\n",
              "  </tbody>\n",
              "</table>\n",
              "<p>614 rows × 12 columns</p>\n",
              "</div>"
            ],
            "text/plain": [
              "     gender married dependents     education self_employed  applicantincome  \\\n",
              "0      Male      No          0      Graduate            No             5849   \n",
              "1      Male     Yes          1      Graduate            No             4583   \n",
              "2      Male     Yes          0      Graduate           Yes             3000   \n",
              "3      Male     Yes          0  Not Graduate            No             2583   \n",
              "4      Male      No          0      Graduate            No             6000   \n",
              "..      ...     ...        ...           ...           ...              ...   \n",
              "609  Female      No          0      Graduate            No             2900   \n",
              "610    Male     Yes         3+      Graduate            No             4106   \n",
              "611    Male     Yes          1      Graduate            No             8072   \n",
              "612    Male     Yes          2      Graduate            No             7583   \n",
              "613  Female      No          0      Graduate           Yes             4583   \n",
              "\n",
              "     coapplicantincome  loanamount  loan_amount_term  credit_history  \\\n",
              "0                  0.0         NaN             360.0             1.0   \n",
              "1               1508.0       128.0             360.0             1.0   \n",
              "2                  0.0        66.0             360.0             1.0   \n",
              "3               2358.0       120.0             360.0             1.0   \n",
              "4                  0.0       141.0             360.0             1.0   \n",
              "..                 ...         ...               ...             ...   \n",
              "609                0.0        71.0             360.0             1.0   \n",
              "610                0.0        40.0             180.0             1.0   \n",
              "611              240.0       253.0             360.0             1.0   \n",
              "612                0.0       187.0             360.0             1.0   \n",
              "613                0.0       133.0             360.0             0.0   \n",
              "\n",
              "    property_area loan_status  \n",
              "0           Urban           Y  \n",
              "1           Rural           N  \n",
              "2           Urban           Y  \n",
              "3           Urban           Y  \n",
              "4           Urban           Y  \n",
              "..            ...         ...  \n",
              "609         Rural           Y  \n",
              "610         Rural           Y  \n",
              "611         Urban           Y  \n",
              "612         Urban           Y  \n",
              "613     Semiurban           N  \n",
              "\n",
              "[614 rows x 12 columns]"
            ]
          },
          "execution_count": 19,
          "metadata": {},
          "output_type": "execute_result"
        }
      ],
      "source": [
        "df"
      ]
    },
    {
      "cell_type": "code",
      "execution_count": null,
      "id": "33e78ada-ada0-47b3-92be-f21fd0b59460",
      "metadata": {
        "tags": [],
        "id": "33e78ada-ada0-47b3-92be-f21fd0b59460"
      },
      "outputs": [],
      "source": [
        "from sklearn.preprocessing import LabelEncoder\n",
        "label_encoder=LabelEncoder()\n",
        "df['loan_status']=label_encoder.fit_transform(df['loan_status'])"
      ]
    },
    {
      "cell_type": "code",
      "execution_count": null,
      "id": "6f4d2261-6965-43e2-882e-a251b90ed99c",
      "metadata": {
        "tags": [],
        "id": "6f4d2261-6965-43e2-882e-a251b90ed99c",
        "outputId": "22012557-4079-427b-b7fa-a98f2218b20a"
      },
      "outputs": [
        {
          "data": {
            "text/html": [
              "<div>\n",
              "<style scoped>\n",
              "    .dataframe tbody tr th:only-of-type {\n",
              "        vertical-align: middle;\n",
              "    }\n",
              "\n",
              "    .dataframe tbody tr th {\n",
              "        vertical-align: top;\n",
              "    }\n",
              "\n",
              "    .dataframe thead th {\n",
              "        text-align: right;\n",
              "    }\n",
              "</style>\n",
              "<table border=\"1\" class=\"dataframe\">\n",
              "  <thead>\n",
              "    <tr style=\"text-align: right;\">\n",
              "      <th></th>\n",
              "      <th>gender</th>\n",
              "      <th>married</th>\n",
              "      <th>dependents</th>\n",
              "      <th>education</th>\n",
              "      <th>self_employed</th>\n",
              "      <th>applicantincome</th>\n",
              "      <th>coapplicantincome</th>\n",
              "      <th>loanamount</th>\n",
              "      <th>loan_amount_term</th>\n",
              "      <th>credit_history</th>\n",
              "      <th>property_area</th>\n",
              "      <th>loan_status</th>\n",
              "    </tr>\n",
              "  </thead>\n",
              "  <tbody>\n",
              "    <tr>\n",
              "      <th>0</th>\n",
              "      <td>Male</td>\n",
              "      <td>No</td>\n",
              "      <td>0</td>\n",
              "      <td>Graduate</td>\n",
              "      <td>No</td>\n",
              "      <td>5849</td>\n",
              "      <td>0.0</td>\n",
              "      <td>NaN</td>\n",
              "      <td>360.0</td>\n",
              "      <td>1.0</td>\n",
              "      <td>Urban</td>\n",
              "      <td>1</td>\n",
              "    </tr>\n",
              "    <tr>\n",
              "      <th>1</th>\n",
              "      <td>Male</td>\n",
              "      <td>Yes</td>\n",
              "      <td>1</td>\n",
              "      <td>Graduate</td>\n",
              "      <td>No</td>\n",
              "      <td>4583</td>\n",
              "      <td>1508.0</td>\n",
              "      <td>128.0</td>\n",
              "      <td>360.0</td>\n",
              "      <td>1.0</td>\n",
              "      <td>Rural</td>\n",
              "      <td>0</td>\n",
              "    </tr>\n",
              "  </tbody>\n",
              "</table>\n",
              "</div>"
            ],
            "text/plain": [
              "  gender married dependents education self_employed  applicantincome  \\\n",
              "0   Male      No          0  Graduate            No             5849   \n",
              "1   Male     Yes          1  Graduate            No             4583   \n",
              "\n",
              "   coapplicantincome  loanamount  loan_amount_term  credit_history  \\\n",
              "0                0.0         NaN             360.0             1.0   \n",
              "1             1508.0       128.0             360.0             1.0   \n",
              "\n",
              "  property_area  loan_status  \n",
              "0         Urban            1  \n",
              "1         Rural            0  "
            ]
          },
          "execution_count": 21,
          "metadata": {},
          "output_type": "execute_result"
        }
      ],
      "source": [
        "df.head(2)"
      ]
    },
    {
      "cell_type": "code",
      "execution_count": null,
      "id": "e830498f-8cb0-4350-9251-00776b74ba50",
      "metadata": {
        "tags": [],
        "id": "e830498f-8cb0-4350-9251-00776b74ba50",
        "outputId": "4518f0f2-fc63-402c-d5bf-7ac98766220f"
      },
      "outputs": [
        {
          "name": "stdout",
          "output_type": "stream",
          "text": [
            "<class 'pandas.core.frame.DataFrame'>\n",
            "Int64Index: 614 entries, 0 to 613\n",
            "Data columns (total 12 columns):\n",
            " #   Column             Non-Null Count  Dtype  \n",
            "---  ------             --------------  -----  \n",
            " 0   gender             601 non-null    object \n",
            " 1   married            611 non-null    object \n",
            " 2   dependents         614 non-null    object \n",
            " 3   education          614 non-null    object \n",
            " 4   self_employed      582 non-null    object \n",
            " 5   applicantincome    614 non-null    int64  \n",
            " 6   coapplicantincome  614 non-null    float64\n",
            " 7   loanamount         592 non-null    float64\n",
            " 8   loan_amount_term   600 non-null    float64\n",
            " 9   credit_history     564 non-null    float64\n",
            " 10  property_area      599 non-null    object \n",
            " 11  loan_status        614 non-null    int32  \n",
            "dtypes: float64(4), int32(1), int64(1), object(6)\n",
            "memory usage: 60.0+ KB\n"
          ]
        }
      ],
      "source": [
        "df[['gender','married','dependents','property_area','education','self_employed']]=df[['gender','married','property_area','dependents','education','self_employed']].astype(object)\n",
        "df.info()"
      ]
    },
    {
      "cell_type": "code",
      "execution_count": null,
      "id": "185ff41f-5149-4840-9554-22a2e35c24d4",
      "metadata": {
        "tags": [],
        "id": "185ff41f-5149-4840-9554-22a2e35c24d4",
        "outputId": "8d1178dc-d810-4519-a0fe-49393522fbe9"
      },
      "outputs": [
        {
          "data": {
            "text/html": [
              "<div>\n",
              "<style scoped>\n",
              "    .dataframe tbody tr th:only-of-type {\n",
              "        vertical-align: middle;\n",
              "    }\n",
              "\n",
              "    .dataframe tbody tr th {\n",
              "        vertical-align: top;\n",
              "    }\n",
              "\n",
              "    .dataframe thead th {\n",
              "        text-align: right;\n",
              "    }\n",
              "</style>\n",
              "<table border=\"1\" class=\"dataframe\">\n",
              "  <thead>\n",
              "    <tr style=\"text-align: right;\">\n",
              "      <th></th>\n",
              "      <th>applicantincome</th>\n",
              "      <th>coapplicantincome</th>\n",
              "      <th>loanamount</th>\n",
              "      <th>loan_amount_term</th>\n",
              "      <th>credit_history</th>\n",
              "      <th>loan_status</th>\n",
              "      <th>applicantincome</th>\n",
              "      <th>coapplicantincome</th>\n",
              "      <th>loanamount</th>\n",
              "      <th>loan_amount_term</th>\n",
              "      <th>credit_history</th>\n",
              "      <th>gender_Male</th>\n",
              "      <th>married_Yes</th>\n",
              "      <th>dependents_Semiurban</th>\n",
              "      <th>dependents_Urban</th>\n",
              "      <th>education_Not Graduate</th>\n",
              "      <th>self_employed_Yes</th>\n",
              "      <th>property_area_1</th>\n",
              "      <th>property_area_2</th>\n",
              "      <th>property_area_3+</th>\n",
              "    </tr>\n",
              "  </thead>\n",
              "  <tbody>\n",
              "    <tr>\n",
              "      <th>0</th>\n",
              "      <td>5849</td>\n",
              "      <td>0.0</td>\n",
              "      <td>NaN</td>\n",
              "      <td>360.0</td>\n",
              "      <td>1.0</td>\n",
              "      <td>1</td>\n",
              "      <td>5849</td>\n",
              "      <td>0.0</td>\n",
              "      <td>NaN</td>\n",
              "      <td>360.0</td>\n",
              "      <td>1.0</td>\n",
              "      <td>1</td>\n",
              "      <td>0</td>\n",
              "      <td>0</td>\n",
              "      <td>1</td>\n",
              "      <td>0</td>\n",
              "      <td>0</td>\n",
              "      <td>0</td>\n",
              "      <td>0</td>\n",
              "      <td>0</td>\n",
              "    </tr>\n",
              "    <tr>\n",
              "      <th>1</th>\n",
              "      <td>4583</td>\n",
              "      <td>1508.0</td>\n",
              "      <td>128.0</td>\n",
              "      <td>360.0</td>\n",
              "      <td>1.0</td>\n",
              "      <td>0</td>\n",
              "      <td>4583</td>\n",
              "      <td>1508.0</td>\n",
              "      <td>128.0</td>\n",
              "      <td>360.0</td>\n",
              "      <td>1.0</td>\n",
              "      <td>1</td>\n",
              "      <td>1</td>\n",
              "      <td>0</td>\n",
              "      <td>0</td>\n",
              "      <td>0</td>\n",
              "      <td>0</td>\n",
              "      <td>1</td>\n",
              "      <td>0</td>\n",
              "      <td>0</td>\n",
              "    </tr>\n",
              "    <tr>\n",
              "      <th>2</th>\n",
              "      <td>3000</td>\n",
              "      <td>0.0</td>\n",
              "      <td>66.0</td>\n",
              "      <td>360.0</td>\n",
              "      <td>1.0</td>\n",
              "      <td>1</td>\n",
              "      <td>3000</td>\n",
              "      <td>0.0</td>\n",
              "      <td>66.0</td>\n",
              "      <td>360.0</td>\n",
              "      <td>1.0</td>\n",
              "      <td>1</td>\n",
              "      <td>1</td>\n",
              "      <td>0</td>\n",
              "      <td>1</td>\n",
              "      <td>0</td>\n",
              "      <td>1</td>\n",
              "      <td>0</td>\n",
              "      <td>0</td>\n",
              "      <td>0</td>\n",
              "    </tr>\n",
              "    <tr>\n",
              "      <th>3</th>\n",
              "      <td>2583</td>\n",
              "      <td>2358.0</td>\n",
              "      <td>120.0</td>\n",
              "      <td>360.0</td>\n",
              "      <td>1.0</td>\n",
              "      <td>1</td>\n",
              "      <td>2583</td>\n",
              "      <td>2358.0</td>\n",
              "      <td>120.0</td>\n",
              "      <td>360.0</td>\n",
              "      <td>1.0</td>\n",
              "      <td>1</td>\n",
              "      <td>1</td>\n",
              "      <td>0</td>\n",
              "      <td>1</td>\n",
              "      <td>1</td>\n",
              "      <td>0</td>\n",
              "      <td>0</td>\n",
              "      <td>0</td>\n",
              "      <td>0</td>\n",
              "    </tr>\n",
              "    <tr>\n",
              "      <th>4</th>\n",
              "      <td>6000</td>\n",
              "      <td>0.0</td>\n",
              "      <td>141.0</td>\n",
              "      <td>360.0</td>\n",
              "      <td>1.0</td>\n",
              "      <td>1</td>\n",
              "      <td>6000</td>\n",
              "      <td>0.0</td>\n",
              "      <td>141.0</td>\n",
              "      <td>360.0</td>\n",
              "      <td>1.0</td>\n",
              "      <td>1</td>\n",
              "      <td>0</td>\n",
              "      <td>0</td>\n",
              "      <td>1</td>\n",
              "      <td>0</td>\n",
              "      <td>0</td>\n",
              "      <td>0</td>\n",
              "      <td>0</td>\n",
              "      <td>0</td>\n",
              "    </tr>\n",
              "  </tbody>\n",
              "</table>\n",
              "</div>"
            ],
            "text/plain": [
              "   applicantincome  coapplicantincome  loanamount  loan_amount_term  \\\n",
              "0             5849                0.0         NaN             360.0   \n",
              "1             4583             1508.0       128.0             360.0   \n",
              "2             3000                0.0        66.0             360.0   \n",
              "3             2583             2358.0       120.0             360.0   \n",
              "4             6000                0.0       141.0             360.0   \n",
              "\n",
              "   credit_history  loan_status  applicantincome  coapplicantincome  \\\n",
              "0             1.0            1             5849                0.0   \n",
              "1             1.0            0             4583             1508.0   \n",
              "2             1.0            1             3000                0.0   \n",
              "3             1.0            1             2583             2358.0   \n",
              "4             1.0            1             6000                0.0   \n",
              "\n",
              "   loanamount  loan_amount_term  credit_history  gender_Male  married_Yes  \\\n",
              "0         NaN             360.0             1.0            1            0   \n",
              "1       128.0             360.0             1.0            1            1   \n",
              "2        66.0             360.0             1.0            1            1   \n",
              "3       120.0             360.0             1.0            1            1   \n",
              "4       141.0             360.0             1.0            1            0   \n",
              "\n",
              "   dependents_Semiurban  dependents_Urban  education_Not Graduate  \\\n",
              "0                     0                 1                       0   \n",
              "1                     0                 0                       0   \n",
              "2                     0                 1                       0   \n",
              "3                     0                 1                       1   \n",
              "4                     0                 1                       0   \n",
              "\n",
              "   self_employed_Yes  property_area_1  property_area_2  property_area_3+  \n",
              "0                  0                0                0                 0  \n",
              "1                  0                1                0                 0  \n",
              "2                  1                0                0                 0  \n",
              "3                  0                0                0                 0  \n",
              "4                  0                0                0                 0  "
            ]
          },
          "execution_count": 23,
          "metadata": {},
          "output_type": "execute_result"
        }
      ],
      "source": [
        "columns_to_exclude = ['loan_status']\n",
        "df_encoded = pd.get_dummies(df.drop(columns_to_exclude, axis=1), drop_first=True)\n",
        "df_final = pd.concat([df.drop(df.select_dtypes(include=['object']).columns, axis=1), df_encoded], axis=1)\n",
        "df_final['loan_status'] = df['loan_status']\n",
        "\n",
        "\n",
        "df_final.head()"
      ]
    },
    {
      "cell_type": "code",
      "execution_count": null,
      "id": "4a7d4d68-d6db-4076-8c12-44491bc04969",
      "metadata": {
        "tags": [],
        "id": "4a7d4d68-d6db-4076-8c12-44491bc04969",
        "outputId": "5b31c9af-c3c0-40bf-8114-5b5da6c5c729"
      },
      "outputs": [
        {
          "data": {
            "text/plain": [
              "(614, 20)"
            ]
          },
          "execution_count": 24,
          "metadata": {},
          "output_type": "execute_result"
        }
      ],
      "source": [
        "df_final.shape"
      ]
    },
    {
      "cell_type": "code",
      "execution_count": null,
      "id": "5ea78f75-a40b-4719-850b-e808632638ec",
      "metadata": {
        "tags": [],
        "id": "5ea78f75-a40b-4719-850b-e808632638ec",
        "outputId": "82304274-0884-4111-eeea-7e76394129e4"
      },
      "outputs": [
        {
          "data": {
            "text/plain": [
              "Index(['applicantincome', 'coapplicantincome', 'loanamount',\n",
              "       'loan_amount_term', 'credit_history', 'loan_status', 'applicantincome',\n",
              "       'coapplicantincome', 'loanamount', 'loan_amount_term', 'credit_history',\n",
              "       'gender_Male', 'married_Yes', 'dependents_Semiurban',\n",
              "       'dependents_Urban', 'education_Not Graduate', 'self_employed_Yes',\n",
              "       'property_area_1', 'property_area_2', 'property_area_3+'],\n",
              "      dtype='object')"
            ]
          },
          "execution_count": 25,
          "metadata": {},
          "output_type": "execute_result"
        }
      ],
      "source": [
        "df_final.columns"
      ]
    },
    {
      "cell_type": "code",
      "execution_count": null,
      "id": "950bf307-da37-419d-995c-f4ad95ee4872",
      "metadata": {
        "tags": [],
        "id": "950bf307-da37-419d-995c-f4ad95ee4872",
        "outputId": "5b7cba6e-0a80-461c-9103-df72f41b28ca"
      },
      "outputs": [
        {
          "name": "stdout",
          "output_type": "stream",
          "text": [
            "<class 'pandas.core.frame.DataFrame'>\n",
            "Int64Index: 614 entries, 0 to 613\n",
            "Data columns (total 20 columns):\n",
            " #   Column                  Non-Null Count  Dtype  \n",
            "---  ------                  --------------  -----  \n",
            " 0   applicantincome         614 non-null    int64  \n",
            " 1   coapplicantincome       614 non-null    float64\n",
            " 2   loanamount              592 non-null    float64\n",
            " 3   loan_amount_term        600 non-null    float64\n",
            " 4   credit_history          564 non-null    float64\n",
            " 5   loan_status             614 non-null    int32  \n",
            " 6   applicantincome         614 non-null    int64  \n",
            " 7   coapplicantincome       614 non-null    float64\n",
            " 8   loanamount              592 non-null    float64\n",
            " 9   loan_amount_term        600 non-null    float64\n",
            " 10  credit_history          564 non-null    float64\n",
            " 11  gender_Male             614 non-null    uint8  \n",
            " 12  married_Yes             614 non-null    uint8  \n",
            " 13  dependents_Semiurban    614 non-null    uint8  \n",
            " 14  dependents_Urban        614 non-null    uint8  \n",
            " 15  education_Not Graduate  614 non-null    uint8  \n",
            " 16  self_employed_Yes       614 non-null    uint8  \n",
            " 17  property_area_1         614 non-null    uint8  \n",
            " 18  property_area_2         614 non-null    uint8  \n",
            " 19  property_area_3+        614 non-null    uint8  \n",
            "dtypes: float64(8), int32(1), int64(2), uint8(9)\n",
            "memory usage: 60.6 KB\n"
          ]
        }
      ],
      "source": [
        "df_final.info()"
      ]
    },
    {
      "cell_type": "code",
      "execution_count": null,
      "id": "018d6aad-cf12-44ee-95c6-0124ba2238f0",
      "metadata": {
        "tags": [],
        "id": "018d6aad-cf12-44ee-95c6-0124ba2238f0",
        "outputId": "c2f13b12-e697-4853-e663-4acf4e8b700a"
      },
      "outputs": [
        {
          "data": {
            "text/html": [
              "<div>\n",
              "<style scoped>\n",
              "    .dataframe tbody tr th:only-of-type {\n",
              "        vertical-align: middle;\n",
              "    }\n",
              "\n",
              "    .dataframe tbody tr th {\n",
              "        vertical-align: top;\n",
              "    }\n",
              "\n",
              "    .dataframe thead th {\n",
              "        text-align: right;\n",
              "    }\n",
              "</style>\n",
              "<table border=\"1\" class=\"dataframe\">\n",
              "  <thead>\n",
              "    <tr style=\"text-align: right;\">\n",
              "      <th></th>\n",
              "      <th>applicantincome</th>\n",
              "      <th>coapplicantincome</th>\n",
              "      <th>loanamount</th>\n",
              "      <th>loan_amount_term</th>\n",
              "      <th>credit_history</th>\n",
              "      <th>loan_status</th>\n",
              "      <th>applicantincome</th>\n",
              "      <th>coapplicantincome</th>\n",
              "      <th>loanamount</th>\n",
              "      <th>loan_amount_term</th>\n",
              "      <th>credit_history</th>\n",
              "      <th>gender_male</th>\n",
              "      <th>married_yes</th>\n",
              "      <th>dependents_semiurban</th>\n",
              "      <th>dependents_urban</th>\n",
              "      <th>education_not_graduate</th>\n",
              "      <th>self_employed_yes</th>\n",
              "      <th>property_area_1</th>\n",
              "      <th>property_area_2</th>\n",
              "      <th>property_area_3+</th>\n",
              "    </tr>\n",
              "  </thead>\n",
              "  <tbody>\n",
              "    <tr>\n",
              "      <th>0</th>\n",
              "      <td>5849</td>\n",
              "      <td>0.0</td>\n",
              "      <td>NaN</td>\n",
              "      <td>360.0</td>\n",
              "      <td>1.0</td>\n",
              "      <td>1</td>\n",
              "      <td>5849</td>\n",
              "      <td>0.0</td>\n",
              "      <td>NaN</td>\n",
              "      <td>360.0</td>\n",
              "      <td>1.0</td>\n",
              "      <td>1</td>\n",
              "      <td>0</td>\n",
              "      <td>0</td>\n",
              "      <td>1</td>\n",
              "      <td>0</td>\n",
              "      <td>0</td>\n",
              "      <td>0</td>\n",
              "      <td>0</td>\n",
              "      <td>0</td>\n",
              "    </tr>\n",
              "    <tr>\n",
              "      <th>1</th>\n",
              "      <td>4583</td>\n",
              "      <td>1508.0</td>\n",
              "      <td>128.0</td>\n",
              "      <td>360.0</td>\n",
              "      <td>1.0</td>\n",
              "      <td>0</td>\n",
              "      <td>4583</td>\n",
              "      <td>1508.0</td>\n",
              "      <td>128.0</td>\n",
              "      <td>360.0</td>\n",
              "      <td>1.0</td>\n",
              "      <td>1</td>\n",
              "      <td>1</td>\n",
              "      <td>0</td>\n",
              "      <td>0</td>\n",
              "      <td>0</td>\n",
              "      <td>0</td>\n",
              "      <td>1</td>\n",
              "      <td>0</td>\n",
              "      <td>0</td>\n",
              "    </tr>\n",
              "  </tbody>\n",
              "</table>\n",
              "</div>"
            ],
            "text/plain": [
              "   applicantincome  coapplicantincome  loanamount  loan_amount_term  \\\n",
              "0             5849                0.0         NaN             360.0   \n",
              "1             4583             1508.0       128.0             360.0   \n",
              "\n",
              "   credit_history  loan_status  applicantincome  coapplicantincome  \\\n",
              "0             1.0            1             5849                0.0   \n",
              "1             1.0            0             4583             1508.0   \n",
              "\n",
              "   loanamount  loan_amount_term  credit_history  gender_male  married_yes  \\\n",
              "0         NaN             360.0             1.0            1            0   \n",
              "1       128.0             360.0             1.0            1            1   \n",
              "\n",
              "   dependents_semiurban  dependents_urban  education_not_graduate  \\\n",
              "0                     0                 1                       0   \n",
              "1                     0                 0                       0   \n",
              "\n",
              "   self_employed_yes  property_area_1  property_area_2  property_area_3+  \n",
              "0                  0                0                0                 0  \n",
              "1                  0                1                0                 0  "
            ]
          },
          "execution_count": 27,
          "metadata": {},
          "output_type": "execute_result"
        }
      ],
      "source": [
        "df_final.columns=[i.lower().replace(' ','_') for i in df_final.columns]\n",
        "df_final.head(2)"
      ]
    },
    {
      "cell_type": "code",
      "execution_count": null,
      "id": "32cb279e-9a1c-4847-8d17-331e96cd8d6d",
      "metadata": {
        "tags": [],
        "id": "32cb279e-9a1c-4847-8d17-331e96cd8d6d"
      },
      "outputs": [],
      "source": [
        "df_out=df_final.dropna()\n",
        "X=df_out.drop(['loan_status'],axis=1)\n",
        "y=df_out['loan_status']\n",
        "X_train,X_test,y_train,y_test=train_test_split(X,y,test_size=0.3,random_state=42,stratify=y)\n"
      ]
    },
    {
      "cell_type": "code",
      "execution_count": null,
      "id": "576a8c41-8b6a-4ed0-b0c5-5e4da15afffa",
      "metadata": {
        "tags": [],
        "id": "576a8c41-8b6a-4ed0-b0c5-5e4da15afffa"
      },
      "outputs": [],
      "source": [
        "scaler=RobustScaler()\n",
        "X_train_scaled=scaler.fit_transform(X_train)\n",
        "X_test_scaled=scaler.transform(X_test)"
      ]
    },
    {
      "cell_type": "code",
      "execution_count": null,
      "id": "e068921b-beaf-4c5a-a3ea-dbfa3f30c775",
      "metadata": {
        "tags": [],
        "id": "e068921b-beaf-4c5a-a3ea-dbfa3f30c775"
      },
      "outputs": [],
      "source": [
        "from sklearn.linear_model import LogisticRegression\n",
        "from sklearn.tree import DecisionTreeClassifier\n",
        "from sklearn.svm import SVC"
      ]
    },
    {
      "cell_type": "code",
      "execution_count": null,
      "id": "d5b0fe50-1bd5-4c3a-9c5d-00df18175eb0",
      "metadata": {
        "tags": [],
        "id": "d5b0fe50-1bd5-4c3a-9c5d-00df18175eb0"
      },
      "outputs": [],
      "source": [
        "model1=LogisticRegression()\n",
        "model2=DecisionTreeClassifier()\n",
        "model3=SVC()"
      ]
    },
    {
      "cell_type": "code",
      "execution_count": null,
      "id": "aaf30f86-43d6-4f91-ae22-4342e8dd750f",
      "metadata": {
        "tags": [],
        "id": "aaf30f86-43d6-4f91-ae22-4342e8dd750f",
        "outputId": "1ae343f2-5949-47f9-8ffc-8dbc7b5ba759"
      },
      "outputs": [
        {
          "data": {
            "text/html": [
              "<style>#sk-container-id-1 {color: black;background-color: white;}#sk-container-id-1 pre{padding: 0;}#sk-container-id-1 div.sk-toggleable {background-color: white;}#sk-container-id-1 label.sk-toggleable__label {cursor: pointer;display: block;width: 100%;margin-bottom: 0;padding: 0.3em;box-sizing: border-box;text-align: center;}#sk-container-id-1 label.sk-toggleable__label-arrow:before {content: \"▸\";float: left;margin-right: 0.25em;color: #696969;}#sk-container-id-1 label.sk-toggleable__label-arrow:hover:before {color: black;}#sk-container-id-1 div.sk-estimator:hover label.sk-toggleable__label-arrow:before {color: black;}#sk-container-id-1 div.sk-toggleable__content {max-height: 0;max-width: 0;overflow: hidden;text-align: left;background-color: #f0f8ff;}#sk-container-id-1 div.sk-toggleable__content pre {margin: 0.2em;color: black;border-radius: 0.25em;background-color: #f0f8ff;}#sk-container-id-1 input.sk-toggleable__control:checked~div.sk-toggleable__content {max-height: 200px;max-width: 100%;overflow: auto;}#sk-container-id-1 input.sk-toggleable__control:checked~label.sk-toggleable__label-arrow:before {content: \"▾\";}#sk-container-id-1 div.sk-estimator input.sk-toggleable__control:checked~label.sk-toggleable__label {background-color: #d4ebff;}#sk-container-id-1 div.sk-label input.sk-toggleable__control:checked~label.sk-toggleable__label {background-color: #d4ebff;}#sk-container-id-1 input.sk-hidden--visually {border: 0;clip: rect(1px 1px 1px 1px);clip: rect(1px, 1px, 1px, 1px);height: 1px;margin: -1px;overflow: hidden;padding: 0;position: absolute;width: 1px;}#sk-container-id-1 div.sk-estimator {font-family: monospace;background-color: #f0f8ff;border: 1px dotted black;border-radius: 0.25em;box-sizing: border-box;margin-bottom: 0.5em;}#sk-container-id-1 div.sk-estimator:hover {background-color: #d4ebff;}#sk-container-id-1 div.sk-parallel-item::after {content: \"\";width: 100%;border-bottom: 1px solid gray;flex-grow: 1;}#sk-container-id-1 div.sk-label:hover label.sk-toggleable__label {background-color: #d4ebff;}#sk-container-id-1 div.sk-serial::before {content: \"\";position: absolute;border-left: 1px solid gray;box-sizing: border-box;top: 0;bottom: 0;left: 50%;z-index: 0;}#sk-container-id-1 div.sk-serial {display: flex;flex-direction: column;align-items: center;background-color: white;padding-right: 0.2em;padding-left: 0.2em;position: relative;}#sk-container-id-1 div.sk-item {position: relative;z-index: 1;}#sk-container-id-1 div.sk-parallel {display: flex;align-items: stretch;justify-content: center;background-color: white;position: relative;}#sk-container-id-1 div.sk-item::before, #sk-container-id-1 div.sk-parallel-item::before {content: \"\";position: absolute;border-left: 1px solid gray;box-sizing: border-box;top: 0;bottom: 0;left: 50%;z-index: -1;}#sk-container-id-1 div.sk-parallel-item {display: flex;flex-direction: column;z-index: 1;position: relative;background-color: white;}#sk-container-id-1 div.sk-parallel-item:first-child::after {align-self: flex-end;width: 50%;}#sk-container-id-1 div.sk-parallel-item:last-child::after {align-self: flex-start;width: 50%;}#sk-container-id-1 div.sk-parallel-item:only-child::after {width: 0;}#sk-container-id-1 div.sk-dashed-wrapped {border: 1px dashed gray;margin: 0 0.4em 0.5em 0.4em;box-sizing: border-box;padding-bottom: 0.4em;background-color: white;}#sk-container-id-1 div.sk-label label {font-family: monospace;font-weight: bold;display: inline-block;line-height: 1.2em;}#sk-container-id-1 div.sk-label-container {text-align: center;}#sk-container-id-1 div.sk-container {/* jupyter's `normalize.less` sets `[hidden] { display: none; }` but bootstrap.min.css set `[hidden] { display: none !important; }` so we also need the `!important` here to be able to override the default hidden behavior on the sphinx rendered scikit-learn.org. See: https://github.com/scikit-learn/scikit-learn/issues/21755 */display: inline-block !important;position: relative;}#sk-container-id-1 div.sk-text-repr-fallback {display: none;}</style><div id=\"sk-container-id-1\" class=\"sk-top-container\"><div class=\"sk-text-repr-fallback\"><pre>SVC()</pre><b>In a Jupyter environment, please rerun this cell to show the HTML representation or trust the notebook. <br />On GitHub, the HTML representation is unable to render, please try loading this page with nbviewer.org.</b></div><div class=\"sk-container\" hidden><div class=\"sk-item\"><div class=\"sk-estimator sk-toggleable\"><input class=\"sk-toggleable__control sk-hidden--visually\" id=\"sk-estimator-id-1\" type=\"checkbox\" checked><label for=\"sk-estimator-id-1\" class=\"sk-toggleable__label sk-toggleable__label-arrow\">SVC</label><div class=\"sk-toggleable__content\"><pre>SVC()</pre></div></div></div></div></div>"
            ],
            "text/plain": [
              "SVC()"
            ]
          },
          "execution_count": 32,
          "metadata": {},
          "output_type": "execute_result"
        }
      ],
      "source": [
        "model1.fit(X_train_scaled,y_train)\n",
        "model2.fit(X_train_scaled,y_train)\n",
        "model3.fit(X_train_scaled,y_train)"
      ]
    },
    {
      "cell_type": "code",
      "execution_count": null,
      "id": "a89370c2-eb8e-4726-88c7-bbf2c54072be",
      "metadata": {
        "tags": [],
        "id": "a89370c2-eb8e-4726-88c7-bbf2c54072be"
      },
      "outputs": [],
      "source": [
        "model1_pred=model1.predict(X_test_scaled)\n",
        "model2_pred=model2.predict(X_test_scaled)\n",
        "model3_pred=model3.predict(X_test_scaled)"
      ]
    },
    {
      "cell_type": "code",
      "execution_count": null,
      "id": "8883f93c-5be5-443c-8cdb-60a71ff2518a",
      "metadata": {
        "tags": [],
        "id": "8883f93c-5be5-443c-8cdb-60a71ff2518a",
        "outputId": "c1d8188d-0526-4f36-aa94-9fc1bd611765"
      },
      "outputs": [
        {
          "name": "stdout",
          "output_type": "stream",
          "text": [
            "              precision    recall  f1-score   support\n",
            "\n",
            "           0       0.91      0.41      0.56        49\n",
            "           1       0.79      0.98      0.87       110\n",
            "\n",
            "    accuracy                           0.81       159\n",
            "   macro avg       0.85      0.69      0.72       159\n",
            "weighted avg       0.83      0.81      0.78       159\n",
            "\n"
          ]
        }
      ],
      "source": [
        "print(classification_report(y_test,model1_pred))\n"
      ]
    },
    {
      "cell_type": "code",
      "execution_count": null,
      "id": "f1491d50-149a-4401-9706-435e79c6a183",
      "metadata": {
        "tags": [],
        "id": "f1491d50-149a-4401-9706-435e79c6a183",
        "outputId": "dc26e492-9585-4f9b-e3d1-64f8b210b350"
      },
      "outputs": [
        {
          "name": "stdout",
          "output_type": "stream",
          "text": [
            "              precision    recall  f1-score   support\n",
            "\n",
            "           0       0.47      0.47      0.47        49\n",
            "           1       0.76      0.76      0.76       110\n",
            "\n",
            "    accuracy                           0.67       159\n",
            "   macro avg       0.62      0.62      0.62       159\n",
            "weighted avg       0.67      0.67      0.67       159\n",
            "\n"
          ]
        }
      ],
      "source": [
        "print(classification_report(y_test,model2_pred))"
      ]
    },
    {
      "cell_type": "code",
      "execution_count": null,
      "id": "aac3f6a4-dc76-46bb-92e3-75add7fccc28",
      "metadata": {
        "tags": [],
        "id": "aac3f6a4-dc76-46bb-92e3-75add7fccc28",
        "outputId": "2be98e7f-b825-4018-faa7-03b3864f26fe"
      },
      "outputs": [
        {
          "name": "stdout",
          "output_type": "stream",
          "text": [
            "              precision    recall  f1-score   support\n",
            "\n",
            "           0       0.00      0.00      0.00        49\n",
            "           1       0.69      0.97      0.80       110\n",
            "\n",
            "    accuracy                           0.67       159\n",
            "   macro avg       0.34      0.49      0.40       159\n",
            "weighted avg       0.47      0.67      0.56       159\n",
            "\n"
          ]
        }
      ],
      "source": [
        "print(classification_report(y_test,model3_pred))"
      ]
    },
    {
      "cell_type": "code",
      "execution_count": null,
      "id": "094fed21-ee6a-41ae-9368-efe0345aa4b2",
      "metadata": {
        "tags": [],
        "id": "094fed21-ee6a-41ae-9368-efe0345aa4b2"
      },
      "outputs": [],
      "source": [
        "from sklearn.ensemble import VotingClassifier\n"
      ]
    },
    {
      "cell_type": "code",
      "execution_count": null,
      "id": "7b0000de-c0ae-49e2-a6b4-1a0542b3f505",
      "metadata": {
        "tags": [],
        "id": "7b0000de-c0ae-49e2-a6b4-1a0542b3f505",
        "outputId": "1867b0ee-3897-430c-b386-fd2315c88cc4"
      },
      "outputs": [
        {
          "name": "stdout",
          "output_type": "stream",
          "text": [
            "              precision    recall  f1-score   support\n",
            "\n",
            "           0       0.85      0.35      0.49        49\n",
            "           1       0.77      0.97      0.86       110\n",
            "\n",
            "    accuracy                           0.78       159\n",
            "   macro avg       0.81      0.66      0.68       159\n",
            "weighted avg       0.79      0.78      0.75       159\n",
            "\n"
          ]
        }
      ],
      "source": [
        "estimators=[('lr',model1),('dt',model2),('sv',model3)]\n",
        "voting_hard=VotingClassifier(estimators,voting='hard')\n",
        "voting_hard.fit(X_train_scaled,y_train)\n",
        "voting_hard_pred=voting_hard.predict(X_test_scaled)\n",
        "print(classification_report(y_test,voting_hard_pred))"
      ]
    },
    {
      "cell_type": "code",
      "execution_count": null,
      "id": "695d0b47-0293-4f1a-83ca-509b4573458a",
      "metadata": {
        "tags": [],
        "id": "695d0b47-0293-4f1a-83ca-509b4573458a"
      },
      "outputs": [],
      "source": [
        "model4=SVC(probability=True)\n",
        "estimators=[('lr',model1),('dt',model2),('sv',model4)]\n",
        "voting_soft=VotingClassifier(estimators,voting='soft')\n",
        "voting_soft.fit(X_train_scaled,y_train)\n",
        "voting_soft_pred=voting_soft.predict(X_test_scaled)"
      ]
    },
    {
      "cell_type": "code",
      "execution_count": null,
      "id": "6977f8b5-e6d6-4f15-9683-af9f0099ee38",
      "metadata": {
        "tags": [],
        "id": "6977f8b5-e6d6-4f15-9683-af9f0099ee38",
        "outputId": "b4c197bb-0fb2-4d48-b525-97f6023bd1fc"
      },
      "outputs": [
        {
          "name": "stdout",
          "output_type": "stream",
          "text": [
            "              precision    recall  f1-score   support\n",
            "\n",
            "           0       0.51      0.41      0.45        49\n",
            "           1       0.76      0.83      0.79       110\n",
            "\n",
            "    accuracy                           0.70       159\n",
            "   macro avg       0.64      0.62      0.62       159\n",
            "weighted avg       0.68      0.70      0.69       159\n",
            "\n"
          ]
        }
      ],
      "source": [
        "print(classification_report(y_test,voting_soft_pred))"
      ]
    },
    {
      "cell_type": "code",
      "execution_count": null,
      "id": "cf28d5b1-9c23-462c-bdb8-21c339285d64",
      "metadata": {
        "tags": [],
        "id": "cf28d5b1-9c23-462c-bdb8-21c339285d64",
        "outputId": "1f8325f3-e802-44dc-b1f4-ee81a13137a5"
      },
      "outputs": [
        {
          "name": "stdout",
          "output_type": "stream",
          "text": [
            "              precision    recall  f1-score   support\n",
            "\n",
            "           0       0.91      0.41      0.56        49\n",
            "           1       0.79      0.98      0.87       110\n",
            "\n",
            "    accuracy                           0.81       159\n",
            "   macro avg       0.85      0.69      0.72       159\n",
            "weighted avg       0.83      0.81      0.78       159\n",
            "\n"
          ]
        }
      ],
      "source": [
        "classifier=RandomForestClassifier()\n",
        "bag_us=BaggingClassifier(base_estimator=classifier,n_estimators=10,\n",
        "                         max_samples=0.4,max_features=12,\n",
        "                         bootstrap=True,bootstrap_features=True,\n",
        "                         n_jobs=-1,random_state=123)\n",
        "bag_us.fit(X_train_scaled,y_train)\n",
        "bag_us_pred=bag_us.predict(X_test_scaled)\n",
        "print(classification_report(y_test,bag_us_pred))"
      ]
    },
    {
      "cell_type": "code",
      "execution_count": null,
      "id": "8427b36e-855c-4887-9849-bbe88e6952c5",
      "metadata": {
        "tags": [],
        "id": "8427b36e-855c-4887-9849-bbe88e6952c5",
        "outputId": "c986ef6e-d372-4429-e8b2-3b9f1eecb1f2"
      },
      "outputs": [
        {
          "name": "stdout",
          "output_type": "stream",
          "text": [
            "              precision    recall  f1-score   support\n",
            "\n",
            "           0       0.88      0.29      0.43        49\n",
            "           1       0.76      0.98      0.85       110\n",
            "\n",
            "    accuracy                           0.77       159\n",
            "   macro avg       0.82      0.63      0.64       159\n",
            "weighted avg       0.79      0.77      0.72       159\n",
            "\n"
          ]
        }
      ],
      "source": [
        "from sklearn.svm import SVC\n",
        "svm=SVC(probability=True)\n",
        "bag=BaggingClassifier(base_estimator=svm,\n",
        "                  n_estimators=10,max_samples=0.4,\n",
        "                  max_features=12,bootstrap=True,bootstrap_features=True,\n",
        "                  n_jobs=-1,\n",
        "                  random_state=123)\n",
        "bag.fit(X_train_scaled,y_train)\n",
        "bag_predi=bag.predict(X_test_scaled)\n",
        "print(classification_report(y_test,bag_predi))"
      ]
    },
    {
      "cell_type": "code",
      "execution_count": null,
      "id": "ade22a9a-977b-48a5-b208-5ac208101fc4",
      "metadata": {
        "tags": [],
        "id": "ade22a9a-977b-48a5-b208-5ac208101fc4",
        "outputId": "e7d6b321-07c5-44be-9484-13731517b49a"
      },
      "outputs": [
        {
          "name": "stdout",
          "output_type": "stream",
          "text": [
            "              precision    recall  f1-score   support\n",
            "\n",
            "           0       0.68      0.39      0.49        49\n",
            "           1       0.77      0.92      0.84       110\n",
            "\n",
            "    accuracy                           0.75       159\n",
            "   macro avg       0.72      0.65      0.67       159\n",
            "weighted avg       0.74      0.75      0.73       159\n",
            "\n"
          ]
        }
      ],
      "source": [
        "gbm=GradientBoostingClassifier(random_state=123)\n",
        "gbm.fit(X_train_scaled,y_train)\n",
        "gbm_pred=gbm.predict(X_test_scaled)\n",
        "print(classification_report(y_test,gbm_pred))"
      ]
    },
    {
      "cell_type": "code",
      "execution_count": null,
      "id": "04e617c5-efc8-458a-950d-1b83b848c0ff",
      "metadata": {
        "tags": [],
        "id": "04e617c5-efc8-458a-950d-1b83b848c0ff"
      },
      "outputs": [],
      "source": [
        "X=df_final.drop(['loan_status'],axis=1)\n",
        "y=df_final['loan_status']\n",
        "X_train,X_test,y_train,y_test=train_test_split(X,y,test_size=0.3,random_state=42,stratify=y)"
      ]
    },
    {
      "cell_type": "code",
      "execution_count": null,
      "id": "32d50334-9171-4783-93c8-57ad93192ad9",
      "metadata": {
        "tags": [],
        "id": "32d50334-9171-4783-93c8-57ad93192ad9"
      },
      "outputs": [],
      "source": [
        "scaler=RobustScaler()\n",
        "X_train_scaled=scaler.fit_transform(X_train)\n",
        "X_test_scaled=scaler.transform(X_test)"
      ]
    },
    {
      "cell_type": "code",
      "execution_count": null,
      "id": "3c3750c7-8a25-4581-92a5-93707812d30f",
      "metadata": {
        "tags": [],
        "id": "3c3750c7-8a25-4581-92a5-93707812d30f",
        "outputId": "9ccd19cc-0792-4499-f0fd-75f887e88054"
      },
      "outputs": [
        {
          "name": "stdout",
          "output_type": "stream",
          "text": [
            "              precision    recall  f1-score   support\n",
            "\n",
            "           0       0.83      0.60      0.70        58\n",
            "           1       0.84      0.94      0.89       127\n",
            "\n",
            "    accuracy                           0.84       185\n",
            "   macro avg       0.84      0.77      0.79       185\n",
            "weighted avg       0.84      0.84      0.83       185\n",
            "\n"
          ]
        }
      ],
      "source": [
        "xgbt=XGBClassifier(max_depth=2,\n",
        "                   learning_rate=0.7,\n",
        "                   objective  = \"multi:softmax\",\n",
        "                   num_class=2,\n",
        "                   booster='gbtree',\n",
        "                   n_estimators=10,\n",
        "                   random_state=123)\n",
        "xgbt.fit(X_train_scaled,y_train)\n",
        "xgbt_pre=xgbt.predict(X_test_scaled)\n",
        "print(classification_report(y_test,xgbt_pre))"
      ]
    },
    {
      "cell_type": "code",
      "execution_count": null,
      "id": "3424e6bf-abda-49dc-8a4d-f54f8c66093e",
      "metadata": {
        "tags": [],
        "id": "3424e6bf-abda-49dc-8a4d-f54f8c66093e",
        "outputId": "5fc6f723-9725-4c1a-9ef0-1587438f3611"
      },
      "outputs": [
        {
          "name": "stdout",
          "output_type": "stream",
          "text": [
            "Requirement already satisfied: lightgbm in c:\\users\\acer\\anaconda3\\lib\\site-packages (4.1.0)\n",
            "Requirement already satisfied: numpy in c:\\users\\acer\\anaconda3\\lib\\site-packages (from lightgbm) (1.24.3)\n",
            "Requirement already satisfied: scipy in c:\\users\\acer\\anaconda3\\lib\\site-packages (from lightgbm) (1.10.1)\n"
          ]
        }
      ],
      "source": [
        "!pip install lightgbm"
      ]
    },
    {
      "cell_type": "code",
      "execution_count": null,
      "id": "c821491d-2815-4d2b-97c4-0995f9f72dc1",
      "metadata": {
        "tags": [],
        "id": "c821491d-2815-4d2b-97c4-0995f9f72dc1",
        "outputId": "f7a774a9-70b2-452b-e0a2-60863f6d1395"
      },
      "outputs": [
        {
          "name": "stdout",
          "output_type": "stream",
          "text": [
            "[LightGBM] [Info] Number of positive: 295, number of negative: 134\n",
            "[LightGBM] [Info] Auto-choosing row-wise multi-threading, the overhead of testing was 0.000895 seconds.\n",
            "You can set `force_row_wise=true` to remove the overhead.\n",
            "And if memory is not enough, you can set `force_col_wise=true`.\n",
            "[LightGBM] [Info] Total Bins 664\n",
            "[LightGBM] [Info] Number of data points in the train set: 429, number of used features: 19\n",
            "[LightGBM] [Info] [binary:BoostFromScore]: pavg=0.687646 -> initscore=0.789136\n",
            "[LightGBM] [Info] Start training from score 0.789136\n",
            "[LightGBM] [Warning] No further splits with positive gain, best gain: -inf\n",
            "[LightGBM] [Warning] No further splits with positive gain, best gain: -inf\n",
            "[LightGBM] [Warning] No further splits with positive gain, best gain: -inf\n",
            "[LightGBM] [Warning] No further splits with positive gain, best gain: -inf\n",
            "[LightGBM] [Warning] No further splits with positive gain, best gain: -inf\n",
            "[LightGBM] [Warning] No further splits with positive gain, best gain: -inf\n",
            "[LightGBM] [Warning] No further splits with positive gain, best gain: -inf\n",
            "[LightGBM] [Warning] No further splits with positive gain, best gain: -inf\n",
            "[LightGBM] [Warning] No further splits with positive gain, best gain: -inf\n",
            "[LightGBM] [Warning] No further splits with positive gain, best gain: -inf\n",
            "[LightGBM] [Warning] No further splits with positive gain, best gain: -inf\n",
            "[LightGBM] [Warning] No further splits with positive gain, best gain: -inf\n",
            "[LightGBM] [Warning] No further splits with positive gain, best gain: -inf\n",
            "[LightGBM] [Warning] No further splits with positive gain, best gain: -inf\n",
            "[LightGBM] [Warning] No further splits with positive gain, best gain: -inf\n",
            "[LightGBM] [Warning] No further splits with positive gain, best gain: -inf\n",
            "[LightGBM] [Warning] No further splits with positive gain, best gain: -inf\n",
            "[LightGBM] [Warning] No further splits with positive gain, best gain: -inf\n",
            "[LightGBM] [Warning] No further splits with positive gain, best gain: -inf\n",
            "[LightGBM] [Warning] No further splits with positive gain, best gain: -inf\n",
            "[LightGBM] [Warning] No further splits with positive gain, best gain: -inf\n",
            "[LightGBM] [Warning] No further splits with positive gain, best gain: -inf\n",
            "[LightGBM] [Warning] No further splits with positive gain, best gain: -inf\n",
            "[LightGBM] [Warning] No further splits with positive gain, best gain: -inf\n",
            "[LightGBM] [Warning] No further splits with positive gain, best gain: -inf\n",
            "[LightGBM] [Warning] No further splits with positive gain, best gain: -inf\n",
            "[LightGBM] [Warning] No further splits with positive gain, best gain: -inf\n",
            "[LightGBM] [Warning] No further splits with positive gain, best gain: -inf\n",
            "[LightGBM] [Warning] No further splits with positive gain, best gain: -inf\n",
            "[LightGBM] [Warning] No further splits with positive gain, best gain: -inf\n",
            "[LightGBM] [Warning] No further splits with positive gain, best gain: -inf\n",
            "[LightGBM] [Warning] No further splits with positive gain, best gain: -inf\n",
            "[LightGBM] [Warning] No further splits with positive gain, best gain: -inf\n",
            "[LightGBM] [Warning] No further splits with positive gain, best gain: -inf\n",
            "[LightGBM] [Warning] No further splits with positive gain, best gain: -inf\n",
            "[LightGBM] [Warning] No further splits with positive gain, best gain: -inf\n",
            "[LightGBM] [Warning] No further splits with positive gain, best gain: -inf\n",
            "[LightGBM] [Warning] No further splits with positive gain, best gain: -inf\n",
            "[LightGBM] [Warning] No further splits with positive gain, best gain: -inf\n",
            "[LightGBM] [Warning] No further splits with positive gain, best gain: -inf\n",
            "[LightGBM] [Warning] No further splits with positive gain, best gain: -inf\n",
            "[LightGBM] [Warning] No further splits with positive gain, best gain: -inf\n",
            "[LightGBM] [Warning] No further splits with positive gain, best gain: -inf\n",
            "[LightGBM] [Warning] No further splits with positive gain, best gain: -inf\n",
            "[LightGBM] [Warning] No further splits with positive gain, best gain: -inf\n",
            "[LightGBM] [Warning] No further splits with positive gain, best gain: -inf\n",
            "[LightGBM] [Warning] No further splits with positive gain, best gain: -inf\n",
            "[LightGBM] [Warning] No further splits with positive gain, best gain: -inf\n",
            "[LightGBM] [Warning] No further splits with positive gain, best gain: -inf\n",
            "[LightGBM] [Warning] No further splits with positive gain, best gain: -inf\n",
            "[LightGBM] [Warning] No further splits with positive gain, best gain: -inf\n",
            "[LightGBM] [Warning] No further splits with positive gain, best gain: -inf\n",
            "[LightGBM] [Warning] No further splits with positive gain, best gain: -inf\n",
            "[LightGBM] [Warning] No further splits with positive gain, best gain: -inf\n",
            "[LightGBM] [Warning] No further splits with positive gain, best gain: -inf\n",
            "[LightGBM] [Warning] No further splits with positive gain, best gain: -inf\n",
            "[LightGBM] [Warning] No further splits with positive gain, best gain: -inf\n",
            "[LightGBM] [Warning] No further splits with positive gain, best gain: -inf\n",
            "[LightGBM] [Warning] No further splits with positive gain, best gain: -inf\n",
            "[LightGBM] [Warning] No further splits with positive gain, best gain: -inf\n",
            "[LightGBM] [Warning] No further splits with positive gain, best gain: -inf\n",
            "[LightGBM] [Warning] No further splits with positive gain, best gain: -inf\n",
            "[LightGBM] [Warning] No further splits with positive gain, best gain: -inf\n",
            "[LightGBM] [Warning] No further splits with positive gain, best gain: -inf\n",
            "[LightGBM] [Warning] No further splits with positive gain, best gain: -inf\n",
            "[LightGBM] [Warning] No further splits with positive gain, best gain: -inf\n",
            "[LightGBM] [Warning] No further splits with positive gain, best gain: -inf\n",
            "[LightGBM] [Warning] No further splits with positive gain, best gain: -inf\n",
            "[LightGBM] [Warning] No further splits with positive gain, best gain: -inf\n",
            "[LightGBM] [Warning] No further splits with positive gain, best gain: -inf\n",
            "[LightGBM] [Warning] No further splits with positive gain, best gain: -inf\n",
            "[LightGBM] [Warning] No further splits with positive gain, best gain: -inf\n",
            "[LightGBM] [Warning] No further splits with positive gain, best gain: -inf\n",
            "[LightGBM] [Warning] No further splits with positive gain, best gain: -inf\n",
            "[LightGBM] [Warning] No further splits with positive gain, best gain: -inf\n",
            "[LightGBM] [Warning] No further splits with positive gain, best gain: -inf\n",
            "[LightGBM] [Warning] No further splits with positive gain, best gain: -inf\n",
            "[LightGBM] [Warning] No further splits with positive gain, best gain: -inf\n",
            "[LightGBM] [Warning] No further splits with positive gain, best gain: -inf\n",
            "[LightGBM] [Warning] No further splits with positive gain, best gain: -inf\n",
            "[LightGBM] [Warning] No further splits with positive gain, best gain: -inf\n",
            "[LightGBM] [Warning] No further splits with positive gain, best gain: -inf\n",
            "[LightGBM] [Warning] No further splits with positive gain, best gain: -inf\n",
            "[LightGBM] [Warning] No further splits with positive gain, best gain: -inf\n",
            "[LightGBM] [Warning] No further splits with positive gain, best gain: -inf\n",
            "[LightGBM] [Warning] No further splits with positive gain, best gain: -inf\n",
            "[LightGBM] [Warning] No further splits with positive gain, best gain: -inf\n",
            "[LightGBM] [Warning] No further splits with positive gain, best gain: -inf\n",
            "[LightGBM] [Warning] No further splits with positive gain, best gain: -inf\n",
            "[LightGBM] [Warning] No further splits with positive gain, best gain: -inf\n",
            "[LightGBM] [Warning] No further splits with positive gain, best gain: -inf\n",
            "[LightGBM] [Warning] No further splits with positive gain, best gain: -inf\n",
            "[LightGBM] [Warning] No further splits with positive gain, best gain: -inf\n",
            "[LightGBM] [Warning] No further splits with positive gain, best gain: -inf\n",
            "[LightGBM] [Warning] No further splits with positive gain, best gain: -inf\n",
            "[LightGBM] [Warning] No further splits with positive gain, best gain: -inf\n",
            "[LightGBM] [Warning] No further splits with positive gain, best gain: -inf\n",
            "[LightGBM] [Warning] No further splits with positive gain, best gain: -inf\n",
            "[LightGBM] [Warning] No further splits with positive gain, best gain: -inf\n",
            "[LightGBM] [Warning] No further splits with positive gain, best gain: -inf\n",
            "              precision    recall  f1-score   support\n",
            "\n",
            "           0       0.70      0.60      0.65        58\n",
            "           1       0.83      0.88      0.85       127\n",
            "\n",
            "    accuracy                           0.79       185\n",
            "   macro avg       0.76      0.74      0.75       185\n",
            "weighted avg       0.79      0.79      0.79       185\n",
            "\n"
          ]
        }
      ],
      "source": [
        "from lightgbm import LGBMClassifier\n",
        "model=LGBMClassifier()\n",
        "model.fit(X_train_scaled,y_train)\n",
        "pred=model.predict(X_test_scaled)\n",
        "print(classification_report(y_test,pred))"
      ]
    },
    {
      "cell_type": "code",
      "execution_count": null,
      "id": "50e8364b-d7bd-480e-947a-74172c3f8ccd",
      "metadata": {
        "tags": [],
        "id": "50e8364b-d7bd-480e-947a-74172c3f8ccd",
        "outputId": "13779cb3-9153-4058-98f4-410c51f61de4"
      },
      "outputs": [
        {
          "name": "stdout",
          "output_type": "stream",
          "text": [
            "Requirement already satisfied: catboost in c:\\users\\acer\\anaconda3\\lib\\site-packages (1.2.1)\n",
            "Requirement already satisfied: graphviz in c:\\users\\acer\\anaconda3\\lib\\site-packages (from catboost) (0.20.1)\n",
            "Requirement already satisfied: matplotlib in c:\\users\\acer\\anaconda3\\lib\\site-packages (from catboost) (3.7.1)\n",
            "Requirement already satisfied: numpy>=1.16.0 in c:\\users\\acer\\anaconda3\\lib\\site-packages (from catboost) (1.24.3)\n",
            "Requirement already satisfied: pandas>=0.24 in c:\\users\\acer\\anaconda3\\lib\\site-packages (from catboost) (1.5.3)\n",
            "Requirement already satisfied: scipy in c:\\users\\acer\\anaconda3\\lib\\site-packages (from catboost) (1.10.1)\n",
            "Requirement already satisfied: plotly in c:\\users\\acer\\anaconda3\\lib\\site-packages (from catboost) (5.9.0)\n",
            "Requirement already satisfied: six in c:\\users\\acer\\anaconda3\\lib\\site-packages (from catboost) (1.16.0)\n",
            "Requirement already satisfied: python-dateutil>=2.8.1 in c:\\users\\acer\\anaconda3\\lib\\site-packages (from pandas>=0.24->catboost) (2.8.2)\n",
            "Requirement already satisfied: pytz>=2020.1 in c:\\users\\acer\\anaconda3\\lib\\site-packages (from pandas>=0.24->catboost) (2022.7)\n",
            "Requirement already satisfied: contourpy>=1.0.1 in c:\\users\\acer\\anaconda3\\lib\\site-packages (from matplotlib->catboost) (1.0.5)\n",
            "Requirement already satisfied: cycler>=0.10 in c:\\users\\acer\\anaconda3\\lib\\site-packages (from matplotlib->catboost) (0.11.0)\n",
            "Requirement already satisfied: fonttools>=4.22.0 in c:\\users\\acer\\anaconda3\\lib\\site-packages (from matplotlib->catboost) (4.25.0)\n",
            "Requirement already satisfied: kiwisolver>=1.0.1 in c:\\users\\acer\\anaconda3\\lib\\site-packages (from matplotlib->catboost) (1.4.4)\n",
            "Requirement already satisfied: packaging>=20.0 in c:\\users\\acer\\anaconda3\\lib\\site-packages (from matplotlib->catboost) (23.0)\n",
            "Requirement already satisfied: pillow>=6.2.0 in c:\\users\\acer\\anaconda3\\lib\\site-packages (from matplotlib->catboost) (9.4.0)\n",
            "Requirement already satisfied: pyparsing>=2.3.1 in c:\\users\\acer\\anaconda3\\lib\\site-packages (from matplotlib->catboost) (3.0.9)\n",
            "Requirement already satisfied: tenacity>=6.2.0 in c:\\users\\acer\\anaconda3\\lib\\site-packages (from plotly->catboost) (8.2.2)\n",
            "0:\tlearn: 0.4022987\ttotal: 154ms\tremaining: 154ms\n",
            "1:\tlearn: 0.3974398\ttotal: 154ms\tremaining: 0us\n"
          ]
        }
      ],
      "source": [
        "!pip install catboost\n",
        "from catboost import CatBoostRegressor\n",
        "\n",
        "\n",
        "model = CatBoostRegressor(iterations=2,\n",
        "                          learning_rate=1,\n",
        "                          depth=2)\n",
        "\n",
        "model.fit(X_train_scaled, y_train)\n",
        "\n",
        "preds = model.predict(X_test_scaled)"
      ]
    },
    {
      "cell_type": "code",
      "execution_count": null,
      "id": "6cef4f24-b05f-45ec-8ce6-13fe7d2d69de",
      "metadata": {
        "tags": [],
        "id": "6cef4f24-b05f-45ec-8ce6-13fe7d2d69de"
      },
      "outputs": [],
      "source": [
        "from sklearn.metrics import accuracy_score"
      ]
    },
    {
      "cell_type": "code",
      "execution_count": null,
      "id": "c07a8b7b-edf1-4693-b301-eadbd34f771d",
      "metadata": {
        "tags": [],
        "id": "c07a8b7b-edf1-4693-b301-eadbd34f771d",
        "outputId": "93f7f3ba-69ea-46ac-cb93-9d91be8f40bd"
      },
      "outputs": [
        {
          "data": {
            "text/plain": [
              "0.3668369301424105"
            ]
          },
          "execution_count": 51,
          "metadata": {},
          "output_type": "execute_result"
        }
      ],
      "source": [
        "model.score(X_test_scaled,y_test)"
      ]
    },
    {
      "cell_type": "code",
      "execution_count": null,
      "id": "d18ffafb-3cac-4851-8cbf-4c0a6f7cf8c5",
      "metadata": {
        "tags": [],
        "id": "d18ffafb-3cac-4851-8cbf-4c0a6f7cf8c5",
        "outputId": "169ec20b-d530-4f6c-9557-0d91be3aac39"
      },
      "outputs": [
        {
          "data": {
            "text/plain": [
              "0.2645884653489966"
            ]
          },
          "execution_count": 52,
          "metadata": {},
          "output_type": "execute_result"
        }
      ],
      "source": [
        "model.score(X_train_scaled,y_train)"
      ]
    },
    {
      "cell_type": "code",
      "execution_count": null,
      "id": "b2a1206a-6755-41c2-82bf-7d2575ecffe8",
      "metadata": {
        "tags": [],
        "id": "b2a1206a-6755-41c2-82bf-7d2575ecffe8"
      },
      "outputs": [],
      "source": [
        "df_out=df_final.dropna()\n",
        "X=df_out.drop(['loan_status'],axis=1)\n",
        "y=df_out['loan_status']\n",
        "X_train,X_test,y_train,y_test=train_test_split(X,y,test_size=0.3,random_state=42,stratify=y)\n",
        "scaler=RobustScaler()\n",
        "X_train_scaled=scaler.fit_transform(X_train)\n",
        "X_test_scaled=scaler.transform(X_test)\n"
      ]
    },
    {
      "cell_type": "code",
      "execution_count": null,
      "id": "9329b133-db2f-4e25-9fee-3ef4e06bc6aa",
      "metadata": {
        "tags": [],
        "id": "9329b133-db2f-4e25-9fee-3ef4e06bc6aa"
      },
      "outputs": [],
      "source": [
        "undersample=NearMiss(version=1,n_neighbors=3)\n",
        "x_train_us,y_train_us=undersample.fit_resample(X_train_scaled,y_train)"
      ]
    },
    {
      "cell_type": "code",
      "execution_count": null,
      "id": "62f25830-e339-424c-9110-7ad22c18af9d",
      "metadata": {
        "tags": [],
        "id": "62f25830-e339-424c-9110-7ad22c18af9d",
        "outputId": "2812661a-2fe4-41d5-c602-56163ca9b150"
      },
      "outputs": [
        {
          "data": {
            "text/plain": [
              "0    114\n",
              "1    114\n",
              "Name: loan_status, dtype: int64"
            ]
          },
          "execution_count": 55,
          "metadata": {},
          "output_type": "execute_result"
        }
      ],
      "source": [
        "y_train_us.value_counts()"
      ]
    },
    {
      "cell_type": "code",
      "execution_count": null,
      "id": "831e8751-7ec1-4f61-99d7-8f38946a2a25",
      "metadata": {
        "tags": [],
        "id": "831e8751-7ec1-4f61-99d7-8f38946a2a25"
      },
      "outputs": [],
      "source": [
        "from sklearn.linear_model import LogisticRegression\n",
        "from sklearn.tree import DecisionTreeClassifier\n",
        "from sklearn.svm import SVC"
      ]
    },
    {
      "cell_type": "code",
      "execution_count": null,
      "id": "8c740efc-ec36-4239-9269-ad7fcc970ce7",
      "metadata": {
        "tags": [],
        "id": "8c740efc-ec36-4239-9269-ad7fcc970ce7"
      },
      "outputs": [],
      "source": [
        "model1 = LogisticRegression()\n",
        "model2 = DecisionTreeClassifier()\n",
        "model3 = SVC()"
      ]
    },
    {
      "cell_type": "code",
      "execution_count": null,
      "id": "88d559b4-8c5b-4fd7-9680-b8e32a3e3a33",
      "metadata": {
        "tags": [],
        "id": "88d559b4-8c5b-4fd7-9680-b8e32a3e3a33",
        "outputId": "99d25bb1-48fa-4413-86fa-fd995041b173"
      },
      "outputs": [
        {
          "data": {
            "text/html": [
              "<style>#sk-container-id-2 {color: black;background-color: white;}#sk-container-id-2 pre{padding: 0;}#sk-container-id-2 div.sk-toggleable {background-color: white;}#sk-container-id-2 label.sk-toggleable__label {cursor: pointer;display: block;width: 100%;margin-bottom: 0;padding: 0.3em;box-sizing: border-box;text-align: center;}#sk-container-id-2 label.sk-toggleable__label-arrow:before {content: \"▸\";float: left;margin-right: 0.25em;color: #696969;}#sk-container-id-2 label.sk-toggleable__label-arrow:hover:before {color: black;}#sk-container-id-2 div.sk-estimator:hover label.sk-toggleable__label-arrow:before {color: black;}#sk-container-id-2 div.sk-toggleable__content {max-height: 0;max-width: 0;overflow: hidden;text-align: left;background-color: #f0f8ff;}#sk-container-id-2 div.sk-toggleable__content pre {margin: 0.2em;color: black;border-radius: 0.25em;background-color: #f0f8ff;}#sk-container-id-2 input.sk-toggleable__control:checked~div.sk-toggleable__content {max-height: 200px;max-width: 100%;overflow: auto;}#sk-container-id-2 input.sk-toggleable__control:checked~label.sk-toggleable__label-arrow:before {content: \"▾\";}#sk-container-id-2 div.sk-estimator input.sk-toggleable__control:checked~label.sk-toggleable__label {background-color: #d4ebff;}#sk-container-id-2 div.sk-label input.sk-toggleable__control:checked~label.sk-toggleable__label {background-color: #d4ebff;}#sk-container-id-2 input.sk-hidden--visually {border: 0;clip: rect(1px 1px 1px 1px);clip: rect(1px, 1px, 1px, 1px);height: 1px;margin: -1px;overflow: hidden;padding: 0;position: absolute;width: 1px;}#sk-container-id-2 div.sk-estimator {font-family: monospace;background-color: #f0f8ff;border: 1px dotted black;border-radius: 0.25em;box-sizing: border-box;margin-bottom: 0.5em;}#sk-container-id-2 div.sk-estimator:hover {background-color: #d4ebff;}#sk-container-id-2 div.sk-parallel-item::after {content: \"\";width: 100%;border-bottom: 1px solid gray;flex-grow: 1;}#sk-container-id-2 div.sk-label:hover label.sk-toggleable__label {background-color: #d4ebff;}#sk-container-id-2 div.sk-serial::before {content: \"\";position: absolute;border-left: 1px solid gray;box-sizing: border-box;top: 0;bottom: 0;left: 50%;z-index: 0;}#sk-container-id-2 div.sk-serial {display: flex;flex-direction: column;align-items: center;background-color: white;padding-right: 0.2em;padding-left: 0.2em;position: relative;}#sk-container-id-2 div.sk-item {position: relative;z-index: 1;}#sk-container-id-2 div.sk-parallel {display: flex;align-items: stretch;justify-content: center;background-color: white;position: relative;}#sk-container-id-2 div.sk-item::before, #sk-container-id-2 div.sk-parallel-item::before {content: \"\";position: absolute;border-left: 1px solid gray;box-sizing: border-box;top: 0;bottom: 0;left: 50%;z-index: -1;}#sk-container-id-2 div.sk-parallel-item {display: flex;flex-direction: column;z-index: 1;position: relative;background-color: white;}#sk-container-id-2 div.sk-parallel-item:first-child::after {align-self: flex-end;width: 50%;}#sk-container-id-2 div.sk-parallel-item:last-child::after {align-self: flex-start;width: 50%;}#sk-container-id-2 div.sk-parallel-item:only-child::after {width: 0;}#sk-container-id-2 div.sk-dashed-wrapped {border: 1px dashed gray;margin: 0 0.4em 0.5em 0.4em;box-sizing: border-box;padding-bottom: 0.4em;background-color: white;}#sk-container-id-2 div.sk-label label {font-family: monospace;font-weight: bold;display: inline-block;line-height: 1.2em;}#sk-container-id-2 div.sk-label-container {text-align: center;}#sk-container-id-2 div.sk-container {/* jupyter's `normalize.less` sets `[hidden] { display: none; }` but bootstrap.min.css set `[hidden] { display: none !important; }` so we also need the `!important` here to be able to override the default hidden behavior on the sphinx rendered scikit-learn.org. See: https://github.com/scikit-learn/scikit-learn/issues/21755 */display: inline-block !important;position: relative;}#sk-container-id-2 div.sk-text-repr-fallback {display: none;}</style><div id=\"sk-container-id-2\" class=\"sk-top-container\"><div class=\"sk-text-repr-fallback\"><pre>SVC()</pre><b>In a Jupyter environment, please rerun this cell to show the HTML representation or trust the notebook. <br />On GitHub, the HTML representation is unable to render, please try loading this page with nbviewer.org.</b></div><div class=\"sk-container\" hidden><div class=\"sk-item\"><div class=\"sk-estimator sk-toggleable\"><input class=\"sk-toggleable__control sk-hidden--visually\" id=\"sk-estimator-id-2\" type=\"checkbox\" checked><label for=\"sk-estimator-id-2\" class=\"sk-toggleable__label sk-toggleable__label-arrow\">SVC</label><div class=\"sk-toggleable__content\"><pre>SVC()</pre></div></div></div></div></div>"
            ],
            "text/plain": [
              "SVC()"
            ]
          },
          "execution_count": 58,
          "metadata": {},
          "output_type": "execute_result"
        }
      ],
      "source": [
        "model1.fit(x_train_us, y_train_us)\n",
        "model2.fit(x_train_us, y_train_us)\n",
        "model3.fit(x_train_us, y_train_us)"
      ]
    },
    {
      "cell_type": "code",
      "execution_count": null,
      "id": "bd95e57a-aca3-4f7f-a7a5-c36d3b67fe8f",
      "metadata": {
        "tags": [],
        "id": "bd95e57a-aca3-4f7f-a7a5-c36d3b67fe8f"
      },
      "outputs": [],
      "source": [
        "model1_pred = model1.predict(X_test_scaled)\n",
        "model2_pred = model2.predict(X_test_scaled)\n",
        "model3_pred = model3.predict(X_test_scaled)"
      ]
    },
    {
      "cell_type": "code",
      "execution_count": null,
      "id": "9dc474a7-659b-4025-82d3-b3aa5ac867d4",
      "metadata": {
        "tags": [],
        "id": "9dc474a7-659b-4025-82d3-b3aa5ac867d4",
        "outputId": "2e431591-3046-4c98-e0cf-f5cf81296a90"
      },
      "outputs": [
        {
          "name": "stdout",
          "output_type": "stream",
          "text": [
            "              precision    recall  f1-score   support\n",
            "\n",
            "           0       0.43      0.67      0.52        49\n",
            "           1       0.80      0.60      0.69       110\n",
            "\n",
            "    accuracy                           0.62       159\n",
            "   macro avg       0.62      0.64      0.61       159\n",
            "weighted avg       0.69      0.62      0.64       159\n",
            "\n"
          ]
        }
      ],
      "source": [
        "print(classification_report(y_test,model1_pred))"
      ]
    },
    {
      "cell_type": "code",
      "execution_count": null,
      "id": "b97d53a8-d1c9-47ca-8bfa-8f73724dc608",
      "metadata": {
        "tags": [],
        "id": "b97d53a8-d1c9-47ca-8bfa-8f73724dc608",
        "outputId": "2d5373ec-5c79-4b11-a439-ec91fb90c11c"
      },
      "outputs": [
        {
          "name": "stdout",
          "output_type": "stream",
          "text": [
            "              precision    recall  f1-score   support\n",
            "\n",
            "           0       0.42      0.65      0.51        49\n",
            "           1       0.79      0.59      0.68       110\n",
            "\n",
            "    accuracy                           0.61       159\n",
            "   macro avg       0.60      0.62      0.59       159\n",
            "weighted avg       0.68      0.61      0.62       159\n",
            "\n"
          ]
        }
      ],
      "source": [
        "print(classification_report(y_test,model2_pred))"
      ]
    },
    {
      "cell_type": "code",
      "execution_count": null,
      "id": "70b2d07e-8bc6-4e14-87de-0d129e3e7996",
      "metadata": {
        "tags": [],
        "id": "70b2d07e-8bc6-4e14-87de-0d129e3e7996",
        "outputId": "2b7070ae-0304-41b2-8094-9590d2e18028"
      },
      "outputs": [
        {
          "name": "stdout",
          "output_type": "stream",
          "text": [
            "              precision    recall  f1-score   support\n",
            "\n",
            "           0       0.23      0.10      0.14        49\n",
            "           1       0.68      0.85      0.75       110\n",
            "\n",
            "    accuracy                           0.62       159\n",
            "   macro avg       0.45      0.47      0.45       159\n",
            "weighted avg       0.54      0.62      0.56       159\n",
            "\n"
          ]
        }
      ],
      "source": [
        "print(classification_report(y_test,model3_pred))"
      ]
    },
    {
      "cell_type": "code",
      "execution_count": null,
      "id": "484c2cea-ce82-4ccc-bab6-6809fe65572f",
      "metadata": {
        "tags": [],
        "id": "484c2cea-ce82-4ccc-bab6-6809fe65572f"
      },
      "outputs": [],
      "source": [
        "estimators = [('lr', model1), ('dt', model2) , ('svm', model3) ]\n",
        "voting_hard = VotingClassifier(estimators, voting=\"hard\")"
      ]
    },
    {
      "cell_type": "code",
      "execution_count": null,
      "id": "83a23e90-f82e-432e-8fb3-3d4d02e44063",
      "metadata": {
        "tags": [],
        "id": "83a23e90-f82e-432e-8fb3-3d4d02e44063"
      },
      "outputs": [],
      "source": [
        "voting_hard.fit(x_train_us, y_train_us)\n",
        "voting_h_pred=voting_hard.predict(X_test_scaled)"
      ]
    },
    {
      "cell_type": "code",
      "execution_count": null,
      "id": "097f4907-0072-4d97-a102-99b38fcef29c",
      "metadata": {
        "tags": [],
        "id": "097f4907-0072-4d97-a102-99b38fcef29c",
        "outputId": "70c32ce8-065f-4387-8577-bc507d941711"
      },
      "outputs": [
        {
          "name": "stdout",
          "output_type": "stream",
          "text": [
            "              precision    recall  f1-score   support\n",
            "\n",
            "           0       0.44      0.63      0.52        49\n",
            "           1       0.80      0.64      0.71       110\n",
            "\n",
            "    accuracy                           0.64       159\n",
            "   macro avg       0.62      0.63      0.61       159\n",
            "weighted avg       0.68      0.64      0.65       159\n",
            "\n"
          ]
        }
      ],
      "source": [
        "print(classification_report(y_test,voting_h_pred))"
      ]
    },
    {
      "cell_type": "code",
      "execution_count": null,
      "id": "0235ec4c-6021-4440-aa53-96d0573b26d3",
      "metadata": {
        "tags": [],
        "id": "0235ec4c-6021-4440-aa53-96d0573b26d3"
      },
      "outputs": [],
      "source": [
        "model4=SVC(probability=True)\n",
        "estimators = [('lr', model1), ('dt', model2) , ('svm', model4) ]\n",
        "voting_soft = VotingClassifier(estimators, voting=\"soft\")"
      ]
    },
    {
      "cell_type": "code",
      "execution_count": null,
      "id": "36db1cac-bd01-45de-ba9a-c16ad0d4ff05",
      "metadata": {
        "tags": [],
        "id": "36db1cac-bd01-45de-ba9a-c16ad0d4ff05"
      },
      "outputs": [],
      "source": [
        "voting_soft.fit(x_train_us, y_train_us)\n",
        "voting_s_pred=voting_soft.predict(X_test_scaled)"
      ]
    },
    {
      "cell_type": "code",
      "execution_count": null,
      "id": "5a355c00-0d46-4714-95dc-01cc30373b70",
      "metadata": {
        "tags": [],
        "id": "5a355c00-0d46-4714-95dc-01cc30373b70",
        "outputId": "19a7c53b-7624-4147-b899-9fd37de259da"
      },
      "outputs": [
        {
          "name": "stdout",
          "output_type": "stream",
          "text": [
            "              precision    recall  f1-score   support\n",
            "\n",
            "           0       0.40      0.65      0.49        49\n",
            "           1       0.78      0.55      0.65       110\n",
            "\n",
            "    accuracy                           0.58       159\n",
            "   macro avg       0.59      0.60      0.57       159\n",
            "weighted avg       0.66      0.58      0.60       159\n",
            "\n"
          ]
        }
      ],
      "source": [
        "print(classification_report(y_test,voting_s_pred))"
      ]
    },
    {
      "cell_type": "code",
      "execution_count": null,
      "id": "61288e9b-1828-4439-a4a5-dd4788a93f29",
      "metadata": {
        "tags": [],
        "id": "61288e9b-1828-4439-a4a5-dd4788a93f29"
      },
      "outputs": [],
      "source": [
        "from sklearn.svm import SVC\n",
        "svm=SVC(probability=True)\n"
      ]
    },
    {
      "cell_type": "code",
      "execution_count": null,
      "id": "a28e0a42-6737-4072-b3ac-5b5ce3e2e89c",
      "metadata": {
        "tags": [],
        "id": "a28e0a42-6737-4072-b3ac-5b5ce3e2e89c"
      },
      "outputs": [],
      "source": [
        "bag = BaggingClassifier(base_estimator= svm,\n",
        "                 n_estimators = 10,\n",
        "                 max_samples = 0.4,\n",
        "                 max_features = 12,\n",
        "                 bootstrap = True,\n",
        "                 bootstrap_features = True,\n",
        "                 n_jobs = -1,\n",
        "                 random_state = 123)"
      ]
    },
    {
      "cell_type": "code",
      "execution_count": null,
      "id": "77b2c371-7854-4707-abd8-38150f27f583",
      "metadata": {
        "tags": [],
        "id": "77b2c371-7854-4707-abd8-38150f27f583",
        "outputId": "88f23635-ff8c-4080-b805-4319618077c2"
      },
      "outputs": [
        {
          "name": "stdout",
          "output_type": "stream",
          "text": [
            "              precision    recall  f1-score   support\n",
            "\n",
            "           0       0.41      0.67      0.51        49\n",
            "           1       0.80      0.57      0.67       110\n",
            "\n",
            "    accuracy                           0.60       159\n",
            "   macro avg       0.60      0.62      0.59       159\n",
            "weighted avg       0.68      0.60      0.62       159\n",
            "\n"
          ]
        }
      ],
      "source": [
        "bag.fit(x_train_us,y_train_us)\n",
        "bag_p=bag.predict(X_test_scaled)\n",
        "print(classification_report(y_test,bag_p))"
      ]
    },
    {
      "cell_type": "code",
      "execution_count": null,
      "id": "8c705b7a-3f8e-47ac-a0e6-4ddeafd77d76",
      "metadata": {
        "tags": [],
        "id": "8c705b7a-3f8e-47ac-a0e6-4ddeafd77d76",
        "outputId": "31cd029d-caec-4676-c3b9-f0198a213890"
      },
      "outputs": [
        {
          "name": "stdout",
          "output_type": "stream",
          "text": [
            "              precision    recall  f1-score   support\n",
            "\n",
            "           0       0.46      0.67      0.55        49\n",
            "           1       0.82      0.65      0.72       110\n",
            "\n",
            "    accuracy                           0.65       159\n",
            "   macro avg       0.64      0.66      0.63       159\n",
            "weighted avg       0.71      0.65      0.67       159\n",
            "\n"
          ]
        }
      ],
      "source": [
        "from sklearn.ensemble import RandomForestClassifier,BaggingClassifier\n",
        "from sklearn.metrics import classification_report\n",
        "classifier=RandomForestClassifier()\n",
        "bag_us=BaggingClassifier(base_estimator=classifier, n_estimators=10,max_samples=0.4,\n",
        "                         max_features=12,bootstrap=True,bootstrap_features=True,\n",
        "                         n_jobs=-1,random_state=123)\n",
        "bag_us.fit(x_train_us,y_train_us)\n",
        "bag_us_pred=bag_us.predict(X_test_scaled)\n",
        "print(classification_report(y_test,bag_us_pred))"
      ]
    },
    {
      "cell_type": "code",
      "execution_count": null,
      "id": "42707904-69b5-424d-9fd8-d456174fab21",
      "metadata": {
        "tags": [],
        "id": "42707904-69b5-424d-9fd8-d456174fab21",
        "outputId": "e528d0af-ef4c-4aae-a9a5-197bb863a47c"
      },
      "outputs": [
        {
          "name": "stdout",
          "output_type": "stream",
          "text": [
            "              precision    recall  f1-score   support\n",
            "\n",
            "           0       0.42      0.65      0.51        49\n",
            "           1       0.79      0.59      0.68       110\n",
            "\n",
            "    accuracy                           0.61       159\n",
            "   macro avg       0.60      0.62      0.59       159\n",
            "weighted avg       0.68      0.61      0.62       159\n",
            "\n"
          ]
        }
      ],
      "source": [
        "from sklearn.ensemble import GradientBoostingClassifier\n",
        "gbc=GradientBoostingClassifier(random_state=0)\n",
        "gbc.fit(x_train_us,y_train_us)\n",
        "gbc_pred=gbc.predict(X_test_scaled)\n",
        "print(classification_report(y_test,gbc_pred))"
      ]
    },
    {
      "cell_type": "code",
      "execution_count": null,
      "id": "e1f21891-f944-4c72-a182-9960415571b4",
      "metadata": {
        "tags": [],
        "id": "e1f21891-f944-4c72-a182-9960415571b4"
      },
      "outputs": [],
      "source": [
        "from xgboost import XGBClassifier\n",
        "xgbt=XGBClassifier(max_depth=2,\n",
        "                 learning_rate=0.2, objective='multi:softmax',\n",
        "                  num_class=2,booster='gbtree',\n",
        "                  n_estimators=10,\n",
        "                  random_state=123)\n",
        "xgbt.fit(x_train_us,y_train_us)\n",
        "xgbt_pred=xgbt.predict(X_test_scaled)"
      ]
    },
    {
      "cell_type": "code",
      "execution_count": null,
      "id": "7cd5d094-8400-4ae7-8dd6-c591dbfdc298",
      "metadata": {
        "tags": [],
        "id": "7cd5d094-8400-4ae7-8dd6-c591dbfdc298",
        "outputId": "56bb93dd-89ea-46a0-de38-6c6ceab68519"
      },
      "outputs": [
        {
          "name": "stdout",
          "output_type": "stream",
          "text": [
            "              precision    recall  f1-score   support\n",
            "\n",
            "           0       0.47      0.57      0.52        49\n",
            "           1       0.79      0.72      0.75       110\n",
            "\n",
            "    accuracy                           0.67       159\n",
            "   macro avg       0.63      0.64      0.64       159\n",
            "weighted avg       0.69      0.67      0.68       159\n",
            "\n"
          ]
        }
      ],
      "source": [
        "print(classification_report(y_test,xgbt_pred))"
      ]
    },
    {
      "cell_type": "code",
      "execution_count": null,
      "id": "48497dfb-d33c-4c1a-a88e-219f7f177ecd",
      "metadata": {
        "tags": [],
        "id": "48497dfb-d33c-4c1a-a88e-219f7f177ecd",
        "outputId": "b3b220c4-5de7-40d7-aea4-81ff7fd70daa"
      },
      "outputs": [
        {
          "name": "stdout",
          "output_type": "stream",
          "text": [
            "[LightGBM] [Info] Number of positive: 114, number of negative: 114\n",
            "[LightGBM] [Info] Auto-choosing row-wise multi-threading, the overhead of testing was 0.000218 seconds.\n",
            "You can set `force_row_wise=true` to remove the overhead.\n",
            "And if memory is not enough, you can set `force_col_wise=true`.\n",
            "[LightGBM] [Info] Total Bins 362\n",
            "[LightGBM] [Info] Number of data points in the train set: 228, number of used features: 16\n",
            "[LightGBM] [Info] [binary:BoostFromScore]: pavg=0.500000 -> initscore=0.000000\n",
            "[LightGBM] [Warning] No further splits with positive gain, best gain: -inf\n",
            "[LightGBM] [Warning] No further splits with positive gain, best gain: -inf\n",
            "[LightGBM] [Warning] No further splits with positive gain, best gain: -inf\n",
            "[LightGBM] [Warning] No further splits with positive gain, best gain: -inf\n",
            "[LightGBM] [Warning] No further splits with positive gain, best gain: -inf\n",
            "[LightGBM] [Warning] No further splits with positive gain, best gain: -inf\n",
            "[LightGBM] [Warning] No further splits with positive gain, best gain: -inf\n",
            "[LightGBM] [Warning] No further splits with positive gain, best gain: -inf\n",
            "[LightGBM] [Warning] No further splits with positive gain, best gain: -inf\n",
            "[LightGBM] [Warning] No further splits with positive gain, best gain: -inf\n",
            "[LightGBM] [Warning] No further splits with positive gain, best gain: -inf\n",
            "[LightGBM] [Warning] No further splits with positive gain, best gain: -inf\n",
            "[LightGBM] [Warning] No further splits with positive gain, best gain: -inf\n",
            "[LightGBM] [Warning] No further splits with positive gain, best gain: -inf\n",
            "[LightGBM] [Warning] No further splits with positive gain, best gain: -inf\n",
            "[LightGBM] [Warning] No further splits with positive gain, best gain: -inf\n",
            "[LightGBM] [Warning] No further splits with positive gain, best gain: -inf\n",
            "[LightGBM] [Warning] No further splits with positive gain, best gain: -inf\n",
            "[LightGBM] [Warning] No further splits with positive gain, best gain: -inf\n",
            "[LightGBM] [Warning] No further splits with positive gain, best gain: -inf\n",
            "[LightGBM] [Warning] No further splits with positive gain, best gain: -inf\n",
            "[LightGBM] [Warning] No further splits with positive gain, best gain: -inf\n",
            "[LightGBM] [Warning] No further splits with positive gain, best gain: -inf\n",
            "[LightGBM] [Warning] No further splits with positive gain, best gain: -inf\n",
            "[LightGBM] [Warning] No further splits with positive gain, best gain: -inf\n",
            "[LightGBM] [Warning] No further splits with positive gain, best gain: -inf\n",
            "[LightGBM] [Warning] No further splits with positive gain, best gain: -inf\n",
            "[LightGBM] [Warning] No further splits with positive gain, best gain: -inf\n",
            "[LightGBM] [Warning] No further splits with positive gain, best gain: -inf\n",
            "[LightGBM] [Warning] No further splits with positive gain, best gain: -inf\n",
            "[LightGBM] [Warning] No further splits with positive gain, best gain: -inf\n",
            "[LightGBM] [Warning] No further splits with positive gain, best gain: -inf\n",
            "[LightGBM] [Warning] No further splits with positive gain, best gain: -inf\n",
            "[LightGBM] [Warning] No further splits with positive gain, best gain: -inf\n",
            "[LightGBM] [Warning] No further splits with positive gain, best gain: -inf\n",
            "[LightGBM] [Warning] No further splits with positive gain, best gain: -inf\n",
            "[LightGBM] [Warning] No further splits with positive gain, best gain: -inf\n",
            "[LightGBM] [Warning] No further splits with positive gain, best gain: -inf\n",
            "[LightGBM] [Warning] No further splits with positive gain, best gain: -inf\n",
            "[LightGBM] [Warning] No further splits with positive gain, best gain: -inf\n",
            "[LightGBM] [Warning] No further splits with positive gain, best gain: -inf\n",
            "[LightGBM] [Warning] No further splits with positive gain, best gain: -inf\n",
            "[LightGBM] [Warning] No further splits with positive gain, best gain: -inf\n",
            "[LightGBM] [Warning] No further splits with positive gain, best gain: -inf\n",
            "[LightGBM] [Warning] No further splits with positive gain, best gain: -inf\n",
            "[LightGBM] [Warning] No further splits with positive gain, best gain: -inf\n",
            "[LightGBM] [Warning] No further splits with positive gain, best gain: -inf\n",
            "[LightGBM] [Warning] No further splits with positive gain, best gain: -inf\n",
            "[LightGBM] [Warning] No further splits with positive gain, best gain: -inf\n",
            "[LightGBM] [Warning] No further splits with positive gain, best gain: -inf\n",
            "[LightGBM] [Warning] No further splits with positive gain, best gain: -inf\n",
            "[LightGBM] [Warning] No further splits with positive gain, best gain: -inf\n",
            "[LightGBM] [Warning] No further splits with positive gain, best gain: -inf\n",
            "[LightGBM] [Warning] No further splits with positive gain, best gain: -inf\n",
            "[LightGBM] [Warning] No further splits with positive gain, best gain: -inf\n",
            "[LightGBM] [Warning] No further splits with positive gain, best gain: -inf\n",
            "[LightGBM] [Warning] No further splits with positive gain, best gain: -inf\n",
            "[LightGBM] [Warning] No further splits with positive gain, best gain: -inf\n",
            "[LightGBM] [Warning] No further splits with positive gain, best gain: -inf\n",
            "[LightGBM] [Warning] No further splits with positive gain, best gain: -inf\n",
            "[LightGBM] [Warning] No further splits with positive gain, best gain: -inf\n",
            "[LightGBM] [Warning] No further splits with positive gain, best gain: -inf\n",
            "[LightGBM] [Warning] No further splits with positive gain, best gain: -inf\n",
            "[LightGBM] [Warning] No further splits with positive gain, best gain: -inf\n",
            "[LightGBM] [Warning] No further splits with positive gain, best gain: -inf\n",
            "[LightGBM] [Warning] No further splits with positive gain, best gain: -inf\n",
            "[LightGBM] [Warning] No further splits with positive gain, best gain: -inf\n",
            "[LightGBM] [Warning] No further splits with positive gain, best gain: -inf\n",
            "[LightGBM] [Warning] No further splits with positive gain, best gain: -inf\n",
            "[LightGBM] [Warning] No further splits with positive gain, best gain: -inf\n",
            "[LightGBM] [Warning] No further splits with positive gain, best gain: -inf\n",
            "[LightGBM] [Warning] No further splits with positive gain, best gain: -inf\n",
            "[LightGBM] [Warning] No further splits with positive gain, best gain: -inf\n",
            "[LightGBM] [Warning] No further splits with positive gain, best gain: -inf\n",
            "[LightGBM] [Warning] No further splits with positive gain, best gain: -inf\n",
            "[LightGBM] [Warning] No further splits with positive gain, best gain: -inf\n",
            "[LightGBM] [Warning] No further splits with positive gain, best gain: -inf\n",
            "[LightGBM] [Warning] No further splits with positive gain, best gain: -inf\n",
            "[LightGBM] [Warning] No further splits with positive gain, best gain: -inf\n",
            "[LightGBM] [Warning] No further splits with positive gain, best gain: -inf\n",
            "[LightGBM] [Warning] No further splits with positive gain, best gain: -inf\n",
            "[LightGBM] [Warning] No further splits with positive gain, best gain: -inf\n",
            "[LightGBM] [Warning] No further splits with positive gain, best gain: -inf\n",
            "[LightGBM] [Warning] No further splits with positive gain, best gain: -inf\n",
            "[LightGBM] [Warning] No further splits with positive gain, best gain: -inf\n",
            "[LightGBM] [Warning] No further splits with positive gain, best gain: -inf\n",
            "[LightGBM] [Warning] No further splits with positive gain, best gain: -inf\n",
            "[LightGBM] [Warning] No further splits with positive gain, best gain: -inf\n",
            "[LightGBM] [Warning] No further splits with positive gain, best gain: -inf\n",
            "[LightGBM] [Warning] No further splits with positive gain, best gain: -inf\n",
            "[LightGBM] [Warning] No further splits with positive gain, best gain: -inf\n",
            "[LightGBM] [Warning] No further splits with positive gain, best gain: -inf\n",
            "[LightGBM] [Warning] No further splits with positive gain, best gain: -inf\n",
            "[LightGBM] [Warning] No further splits with positive gain, best gain: -inf\n",
            "[LightGBM] [Warning] No further splits with positive gain, best gain: -inf\n",
            "[LightGBM] [Warning] No further splits with positive gain, best gain: -inf\n",
            "[LightGBM] [Warning] No further splits with positive gain, best gain: -inf\n",
            "[LightGBM] [Warning] No further splits with positive gain, best gain: -inf\n",
            "[LightGBM] [Warning] No further splits with positive gain, best gain: -inf\n",
            "[LightGBM] [Warning] No further splits with positive gain, best gain: -inf\n",
            "              precision    recall  f1-score   support\n",
            "\n",
            "           0       0.41      0.78      0.54        49\n",
            "           1       0.84      0.51      0.63       110\n",
            "\n",
            "    accuracy                           0.59       159\n",
            "   macro avg       0.62      0.64      0.59       159\n",
            "weighted avg       0.71      0.59      0.60       159\n",
            "\n"
          ]
        }
      ],
      "source": [
        "from lightgbm import LGBMClassifier\n",
        "model=LGBMClassifier()\n",
        "model.fit(x_train_us,y_train_us)\n",
        "pred=model.predict(X_test_scaled)\n",
        "print(classification_report(y_test,pred))"
      ]
    },
    {
      "cell_type": "code",
      "execution_count": null,
      "id": "022475b2-7404-4b32-b41f-9038e058cc62",
      "metadata": {
        "tags": [],
        "id": "022475b2-7404-4b32-b41f-9038e058cc62",
        "outputId": "5425540f-0d9a-444f-c8be-6a634bfef0a3"
      },
      "outputs": [
        {
          "name": "stdout",
          "output_type": "stream",
          "text": [
            "0:\tlearn: 0.4095708\ttotal: 516us\tremaining: 516us\n",
            "1:\tlearn: 0.3940055\ttotal: 1.17ms\tremaining: 0us\n"
          ]
        }
      ],
      "source": [
        "from catboost import CatBoostRegressor\n",
        "\n",
        "\n",
        "model = CatBoostRegressor(iterations=2,\n",
        "                          learning_rate=1,\n",
        "                          depth=2)\n",
        "\n",
        "model.fit(x_train_us,y_train_us)\n",
        "\n",
        "preds = model.predict(X_test_scaled)\n"
      ]
    },
    {
      "cell_type": "code",
      "execution_count": null,
      "id": "97d930e7-8fa1-49a5-916b-ed85b33bdd84",
      "metadata": {
        "tags": [],
        "id": "97d930e7-8fa1-49a5-916b-ed85b33bdd84",
        "outputId": "38b29142-d74f-4171-e5b7-00e3356884a9"
      },
      "outputs": [
        {
          "data": {
            "text/plain": [
              "0.3790387928099448"
            ]
          },
          "execution_count": 78,
          "metadata": {},
          "output_type": "execute_result"
        }
      ],
      "source": [
        "model.score(x_train_us, y_train_us)"
      ]
    },
    {
      "cell_type": "code",
      "execution_count": null,
      "id": "608ddce4-57c2-4f89-8581-1aa2ab286c8c",
      "metadata": {
        "tags": [],
        "id": "608ddce4-57c2-4f89-8581-1aa2ab286c8c",
        "outputId": "2f0db2ca-71a9-4cad-e9cd-984bfce1a6f3"
      },
      "outputs": [
        {
          "data": {
            "text/plain": [
              "-0.21799616483431872"
            ]
          },
          "execution_count": 79,
          "metadata": {},
          "output_type": "execute_result"
        }
      ],
      "source": [
        "model.score(X_test_scaled, y_test)"
      ]
    },
    {
      "cell_type": "code",
      "execution_count": null,
      "id": "b4f49a36-2fec-408b-a599-3b30c69f5b5a",
      "metadata": {
        "tags": [],
        "id": "b4f49a36-2fec-408b-a599-3b30c69f5b5a"
      },
      "outputs": [],
      "source": [
        "df_out=df_final.dropna()\n",
        "X=df_out.drop(['loan_status'],axis=1)\n",
        "y=df_out['loan_status']\n",
        "X_train,X_test,y_train,y_test=train_test_split(X,y,test_size=0.3,random_state=42,stratify=y)\n",
        "scaler=RobustScaler()\n",
        "X_train_scaled=scaler.fit_transform(X_train)\n",
        "X_test_scaled=scaler.transform(X_test)"
      ]
    },
    {
      "cell_type": "code",
      "execution_count": null,
      "id": "5adfb24e-b020-4ddd-9f99-d27763ff6f7b",
      "metadata": {
        "tags": [],
        "id": "5adfb24e-b020-4ddd-9f99-d27763ff6f7b"
      },
      "outputs": [],
      "source": [
        "ros=RandomOverSampler(random_state=0)\n",
        "x_train_os,y_train_os=ros.fit_resample(X_train_scaled,y_train)"
      ]
    },
    {
      "cell_type": "code",
      "execution_count": null,
      "id": "bb39f849-51fe-4602-a067-e9e0a157a002",
      "metadata": {
        "tags": [],
        "id": "bb39f849-51fe-4602-a067-e9e0a157a002",
        "outputId": "0eb24149-e494-4c2a-b71b-8132903dc861"
      },
      "outputs": [
        {
          "data": {
            "text/plain": [
              "0    256\n",
              "1    256\n",
              "Name: loan_status, dtype: int64"
            ]
          },
          "execution_count": 82,
          "metadata": {},
          "output_type": "execute_result"
        }
      ],
      "source": [
        "y_train_os.value_counts()"
      ]
    },
    {
      "cell_type": "code",
      "execution_count": null,
      "id": "a783910c-7ee8-45d6-984c-c0d2ea7f0dad",
      "metadata": {
        "tags": [],
        "id": "a783910c-7ee8-45d6-984c-c0d2ea7f0dad",
        "outputId": "1c14f05c-e7af-4bcc-ad7c-f7cc979f322c"
      },
      "outputs": [
        {
          "name": "stdout",
          "output_type": "stream",
          "text": [
            "              precision    recall  f1-score   support\n",
            "\n",
            "           0       0.60      0.51      0.55        49\n",
            "           1       0.79      0.85      0.82       110\n",
            "\n",
            "    accuracy                           0.74       159\n",
            "   macro avg       0.70      0.68      0.68       159\n",
            "weighted avg       0.73      0.74      0.74       159\n",
            "\n"
          ]
        }
      ],
      "source": [
        "svm=SVC(probability=True)\n",
        "bag=BaggingClassifier(base_estimator=svm,n_estimators=10,\n",
        "                      max_samples=0.4,\n",
        "                      max_features=12,\n",
        "                      bootstrap=True,\n",
        "                      bootstrap_features=True,\n",
        "                      n_jobs=-1,\n",
        "                      random_state=123)\n",
        "bag.fit(x_train_os,y_train_os)\n",
        "bagging_pred=bag.predict(X_test_scaled)\n",
        "print(classification_report(y_test,bagging_pred))"
      ]
    },
    {
      "cell_type": "code",
      "execution_count": null,
      "id": "f52a5ece-eb64-4546-9bcb-d703f16bc141",
      "metadata": {
        "tags": [],
        "id": "f52a5ece-eb64-4546-9bcb-d703f16bc141",
        "outputId": "4feb315a-c1d3-4d47-fc56-950894623b9a"
      },
      "outputs": [
        {
          "name": "stdout",
          "output_type": "stream",
          "text": [
            "              precision    recall  f1-score   support\n",
            "\n",
            "           0       0.66      0.43      0.52        49\n",
            "           1       0.78      0.90      0.84       110\n",
            "\n",
            "    accuracy                           0.75       159\n",
            "   macro avg       0.72      0.66      0.68       159\n",
            "weighted avg       0.74      0.75      0.74       159\n",
            "\n"
          ]
        }
      ],
      "source": [
        "gbc=GradientBoostingClassifier(random_state=123)\n",
        "gbc.fit(x_train_os,y_train_os)\n",
        "gbc_pred=gbc.predict(X_test_scaled)\n",
        "print(classification_report(y_test,gbc_pred))"
      ]
    },
    {
      "cell_type": "code",
      "execution_count": null,
      "id": "c8c9daed-e8b0-40b0-a38d-b00cd36db53e",
      "metadata": {
        "tags": [],
        "id": "c8c9daed-e8b0-40b0-a38d-b00cd36db53e",
        "outputId": "119739c6-66ed-4f2f-9435-53e29d327090"
      },
      "outputs": [
        {
          "name": "stdout",
          "output_type": "stream",
          "text": [
            "              precision    recall  f1-score   support\n",
            "\n",
            "           0       0.64      0.61      0.62        49\n",
            "           1       0.83      0.85      0.84       110\n",
            "\n",
            "    accuracy                           0.77       159\n",
            "   macro avg       0.73      0.73      0.73       159\n",
            "weighted avg       0.77      0.77      0.77       159\n",
            "\n"
          ]
        }
      ],
      "source": [
        "from xgboost import XGBClassifier\n",
        "xgbt=XGBClassifier(max_depth=5,\n",
        "                 learning_rate=0.6, objective='multi:softmax',\n",
        "                  num_class=2,booster='gbtree',\n",
        "                  n_estimators=10,\n",
        "                  random_state=123)\n",
        "xgbt.fit(x_train_os,y_train_os)\n",
        "xgbt_prediction=xgbt.predict(X_test_scaled)\n",
        "print(classification_report(y_test,xgbt_prediction))"
      ]
    },
    {
      "cell_type": "code",
      "execution_count": null,
      "id": "6c6146b7-e425-4379-856f-98c4d4638f05",
      "metadata": {
        "tags": [],
        "id": "6c6146b7-e425-4379-856f-98c4d4638f05",
        "outputId": "0a92a857-5bc6-416f-f1f9-a97b34b2ad00"
      },
      "outputs": [
        {
          "name": "stdout",
          "output_type": "stream",
          "text": [
            "[LightGBM] [Info] Number of positive: 256, number of negative: 256\n",
            "[LightGBM] [Info] Auto-choosing col-wise multi-threading, the overhead of testing was 0.000530 seconds.\n",
            "You can set `force_col_wise=true` to remove the overhead.\n",
            "[LightGBM] [Info] Total Bins 688\n",
            "[LightGBM] [Info] Number of data points in the train set: 512, number of used features: 19\n",
            "[LightGBM] [Info] [binary:BoostFromScore]: pavg=0.500000 -> initscore=0.000000\n",
            "[LightGBM] [Warning] No further splits with positive gain, best gain: -inf\n",
            "[LightGBM] [Warning] No further splits with positive gain, best gain: -inf\n",
            "[LightGBM] [Warning] No further splits with positive gain, best gain: -inf\n",
            "[LightGBM] [Warning] No further splits with positive gain, best gain: -inf\n",
            "[LightGBM] [Warning] No further splits with positive gain, best gain: -inf\n",
            "[LightGBM] [Warning] No further splits with positive gain, best gain: -inf\n",
            "[LightGBM] [Warning] No further splits with positive gain, best gain: -inf\n",
            "[LightGBM] [Warning] No further splits with positive gain, best gain: -inf\n",
            "[LightGBM] [Warning] No further splits with positive gain, best gain: -inf\n",
            "[LightGBM] [Warning] No further splits with positive gain, best gain: -inf\n",
            "[LightGBM] [Warning] No further splits with positive gain, best gain: -inf\n",
            "[LightGBM] [Warning] No further splits with positive gain, best gain: -inf\n",
            "[LightGBM] [Warning] No further splits with positive gain, best gain: -inf\n",
            "[LightGBM] [Warning] No further splits with positive gain, best gain: -inf\n",
            "[LightGBM] [Warning] No further splits with positive gain, best gain: -inf\n",
            "[LightGBM] [Warning] No further splits with positive gain, best gain: -inf\n",
            "[LightGBM] [Warning] No further splits with positive gain, best gain: -inf\n",
            "[LightGBM] [Warning] No further splits with positive gain, best gain: -inf\n",
            "[LightGBM] [Warning] No further splits with positive gain, best gain: -inf\n",
            "[LightGBM] [Warning] No further splits with positive gain, best gain: -inf\n",
            "[LightGBM] [Warning] No further splits with positive gain, best gain: -inf\n",
            "[LightGBM] [Warning] No further splits with positive gain, best gain: -inf\n",
            "[LightGBM] [Warning] No further splits with positive gain, best gain: -inf\n",
            "[LightGBM] [Warning] No further splits with positive gain, best gain: -inf\n",
            "[LightGBM] [Warning] No further splits with positive gain, best gain: -inf\n",
            "[LightGBM] [Warning] No further splits with positive gain, best gain: -inf\n",
            "[LightGBM] [Warning] No further splits with positive gain, best gain: -inf\n",
            "[LightGBM] [Warning] No further splits with positive gain, best gain: -inf\n",
            "[LightGBM] [Warning] No further splits with positive gain, best gain: -inf\n",
            "[LightGBM] [Warning] No further splits with positive gain, best gain: -inf\n",
            "[LightGBM] [Warning] No further splits with positive gain, best gain: -inf\n",
            "[LightGBM] [Warning] No further splits with positive gain, best gain: -inf\n",
            "[LightGBM] [Warning] No further splits with positive gain, best gain: -inf\n",
            "[LightGBM] [Warning] No further splits with positive gain, best gain: -inf\n",
            "[LightGBM] [Warning] No further splits with positive gain, best gain: -inf\n",
            "[LightGBM] [Warning] No further splits with positive gain, best gain: -inf\n",
            "[LightGBM] [Warning] No further splits with positive gain, best gain: -inf\n",
            "[LightGBM] [Warning] No further splits with positive gain, best gain: -inf\n",
            "[LightGBM] [Warning] No further splits with positive gain, best gain: -inf\n",
            "[LightGBM] [Warning] No further splits with positive gain, best gain: -inf\n",
            "[LightGBM] [Warning] No further splits with positive gain, best gain: -inf\n",
            "[LightGBM] [Warning] No further splits with positive gain, best gain: -inf\n",
            "[LightGBM] [Warning] No further splits with positive gain, best gain: -inf\n",
            "[LightGBM] [Warning] No further splits with positive gain, best gain: -inf\n",
            "[LightGBM] [Warning] No further splits with positive gain, best gain: -inf\n",
            "[LightGBM] [Warning] No further splits with positive gain, best gain: -inf\n",
            "[LightGBM] [Warning] No further splits with positive gain, best gain: -inf\n",
            "[LightGBM] [Warning] No further splits with positive gain, best gain: -inf\n",
            "[LightGBM] [Warning] No further splits with positive gain, best gain: -inf\n",
            "[LightGBM] [Warning] No further splits with positive gain, best gain: -inf\n",
            "[LightGBM] [Warning] No further splits with positive gain, best gain: -inf\n",
            "[LightGBM] [Warning] No further splits with positive gain, best gain: -inf\n",
            "[LightGBM] [Warning] No further splits with positive gain, best gain: -inf\n",
            "[LightGBM] [Warning] No further splits with positive gain, best gain: -inf\n",
            "[LightGBM] [Warning] No further splits with positive gain, best gain: -inf\n",
            "[LightGBM] [Warning] No further splits with positive gain, best gain: -inf\n",
            "[LightGBM] [Warning] No further splits with positive gain, best gain: -inf\n",
            "[LightGBM] [Warning] No further splits with positive gain, best gain: -inf\n",
            "[LightGBM] [Warning] No further splits with positive gain, best gain: -inf\n",
            "[LightGBM] [Warning] No further splits with positive gain, best gain: -inf\n",
            "[LightGBM] [Warning] No further splits with positive gain, best gain: -inf\n",
            "[LightGBM] [Warning] No further splits with positive gain, best gain: -inf\n",
            "[LightGBM] [Warning] No further splits with positive gain, best gain: -inf\n",
            "[LightGBM] [Warning] No further splits with positive gain, best gain: -inf\n",
            "[LightGBM] [Warning] No further splits with positive gain, best gain: -inf\n",
            "[LightGBM] [Warning] No further splits with positive gain, best gain: -inf\n",
            "[LightGBM] [Warning] No further splits with positive gain, best gain: -inf\n",
            "[LightGBM] [Warning] No further splits with positive gain, best gain: -inf\n",
            "[LightGBM] [Warning] No further splits with positive gain, best gain: -inf\n",
            "[LightGBM] [Warning] No further splits with positive gain, best gain: -inf\n",
            "[LightGBM] [Warning] No further splits with positive gain, best gain: -inf\n",
            "[LightGBM] [Warning] No further splits with positive gain, best gain: -inf\n",
            "[LightGBM] [Warning] No further splits with positive gain, best gain: -inf\n",
            "[LightGBM] [Warning] No further splits with positive gain, best gain: -inf\n",
            "[LightGBM] [Warning] No further splits with positive gain, best gain: -inf\n",
            "[LightGBM] [Warning] No further splits with positive gain, best gain: -inf\n",
            "[LightGBM] [Warning] No further splits with positive gain, best gain: -inf\n",
            "[LightGBM] [Warning] No further splits with positive gain, best gain: -inf\n",
            "[LightGBM] [Warning] No further splits with positive gain, best gain: -inf\n",
            "[LightGBM] [Warning] No further splits with positive gain, best gain: -inf\n",
            "[LightGBM] [Warning] No further splits with positive gain, best gain: -inf\n",
            "[LightGBM] [Warning] No further splits with positive gain, best gain: -inf\n",
            "[LightGBM] [Warning] No further splits with positive gain, best gain: -inf\n",
            "[LightGBM] [Warning] No further splits with positive gain, best gain: -inf\n",
            "[LightGBM] [Warning] No further splits with positive gain, best gain: -inf\n",
            "[LightGBM] [Warning] No further splits with positive gain, best gain: -inf\n",
            "[LightGBM] [Warning] No further splits with positive gain, best gain: -inf\n",
            "[LightGBM] [Warning] No further splits with positive gain, best gain: -inf\n",
            "[LightGBM] [Warning] No further splits with positive gain, best gain: -inf\n",
            "[LightGBM] [Warning] No further splits with positive gain, best gain: -inf\n",
            "[LightGBM] [Warning] No further splits with positive gain, best gain: -inf\n",
            "[LightGBM] [Warning] No further splits with positive gain, best gain: -inf\n",
            "[LightGBM] [Warning] No further splits with positive gain, best gain: -inf\n",
            "[LightGBM] [Warning] No further splits with positive gain, best gain: -inf\n",
            "[LightGBM] [Warning] No further splits with positive gain, best gain: -inf\n",
            "[LightGBM] [Warning] No further splits with positive gain, best gain: -inf\n",
            "[LightGBM] [Warning] No further splits with positive gain, best gain: -inf\n",
            "[LightGBM] [Warning] No further splits with positive gain, best gain: -inf\n",
            "[LightGBM] [Warning] No further splits with positive gain, best gain: -inf\n",
            "[LightGBM] [Warning] No further splits with positive gain, best gain: -inf\n",
            "              precision    recall  f1-score   support\n",
            "\n",
            "           0       0.66      0.51      0.57        49\n",
            "           1       0.80      0.88      0.84       110\n",
            "\n",
            "    accuracy                           0.77       159\n",
            "   macro avg       0.73      0.70      0.71       159\n",
            "weighted avg       0.76      0.77      0.76       159\n",
            "\n"
          ]
        }
      ],
      "source": [
        "from lightgbm import LGBMClassifier\n",
        "model=LGBMClassifier()\n",
        "model.fit(x_train_os,y_train_os)\n",
        "pred=model.predict(X_test_scaled)\n",
        "print(classification_report(y_test,pred))"
      ]
    }
  ],
  "metadata": {
    "kernelspec": {
      "display_name": "Python 3 (ipykernel)",
      "language": "python",
      "name": "python3"
    },
    "language_info": {
      "codemirror_mode": {
        "name": "ipython",
        "version": 3
      },
      "file_extension": ".py",
      "mimetype": "text/x-python",
      "name": "python",
      "nbconvert_exporter": "python",
      "pygments_lexer": "ipython3",
      "version": "3.11.3"
    },
    "colab": {
      "provenance": []
    }
  },
  "nbformat": 4,
  "nbformat_minor": 5
}